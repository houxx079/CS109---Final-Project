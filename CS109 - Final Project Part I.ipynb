{
 "cells": [
  {
   "cell_type": "markdown",
   "metadata": {},
   "source": [
    "# CS109 Final Project"
   ]
  },
  {
   "cell_type": "markdown",
   "metadata": {},
   "source": [
    "## Overview and Motivation"
   ]
  },
  {
   "cell_type": "markdown",
   "metadata": {},
   "source": [
    "In the U.S., breast cancer is the second most common cancer in women. While breast cancer is often thought of as a single disease, increasing evidence suggests that there are multiple subtypes of breast cancer that occur at different rates in different groups, respond to different kinds of treatment, are more or less aggressive, and have varied long-term survival rates. In addition, risk factors may vary for each different subtypes of breast cancer.  Therefore, it appears that breast cancer outcome is hard to predict. \n",
    "\n",
    "The good news is, with the tremendous advancement of high-throughput sequencing technologies, large-scale projects such as the The Cancer Genome Atlas (TCGA) have generated extensive sequencing data libraries of from over 10,000 solid tumors as well as adjacent normal tissue samples across various cancer types. These data not only enable comprehensive characterization of genomic, epigenetic and expression changes in cancers, but sheds new light on cancer subtype classification and even more, cancer diagnostics. \n",
    "\n",
    "The goals of our project are to 1. apply machine learning methods to classify breast cancer into several groups and compare their corresponding survival rates based on clinical data. 2. explore potential genetic markers and signatures that can best predict patient outcome. "
   ]
  },
  {
   "cell_type": "markdown",
   "metadata": {},
   "source": [
    "## Related Work"
   ]
  },
  {
   "cell_type": "markdown",
   "metadata": {},
   "source": [
    "At the beginning of our project, we were inspired by the paper \"Analysis of breast cancer progression using principal component\n",
    "analysis (PCA) and clustering\" which showed the possibility of using PCA for cancer subtype classfication. However, the number of samples they used was not large enough and there was not convincing validation for their clustering results. That's the main reason why we decided to move forward. During the course of our analysis, we found an comprehensive nature paper \"Comprehensive molecular portraits of human breast tumours\" that included the useful subtype information. Therefore we could do some supervised analysis based on their discoveries."
   ]
  },
  {
   "cell_type": "markdown",
   "metadata": {},
   "source": [
    "##Data Source"
   ]
  },
  {
   "cell_type": "markdown",
   "metadata": {},
   "source": [
    "Molecular data of breast cancer and clinical data were downloaded from TCGA data portal (https://tcga-data.nci.nih.gov/tcga/) and level-3 mRNA expression data from GDAC firehose website (http://gdac.broadinstitute.org). Note that for breast cancer, whole transcriptome RNA-sequencing (RNA-seq) data was available and we used the RSEM-processed transcript per million (TPM) measure. For more subtype information of the breast cancer, we downloaded the supplementary information from http://www.nature.com/nature/journal/v490/n7418/full/nature11412.html#supplementary-information ."
   ]
  },
  {
   "cell_type": "markdown",
   "metadata": {},
   "source": [
    "## Unsupervised Learning in Breast Cancer Data"
   ]
  },
  {
   "cell_type": "code",
   "execution_count": 1,
   "metadata": {
    "collapsed": false
   },
   "outputs": [],
   "source": [
    "#Import modules and read-in the breast cancer RNA-seq data\n",
    "import os\n",
    "import csv\n",
    "import numpy as np\n",
    "import pandas as pd\n",
    "%matplotlib inline\n",
    "import matplotlib.pyplot as plt\n",
    "from scipy.cluster.vq import *\n",
    "from sklearn.cross_validation import train_test_split\n",
    "from sklearn import linear_model\n",
    "import statsmodels.api as sm\n",
    "from statsmodels.formula.api import logit, glm, ols\n",
    "#K-means cluster\n",
    "from sklearn.cluster import KMeans\n",
    "from scipy.cluster.vq import kmeans,vq\n",
    "from scipy.spatial.distance import cdist\n",
    "import matplotlib.pyplot as plt"
   ]
  },
  {
   "cell_type": "code",
   "execution_count": 2,
   "metadata": {
    "collapsed": false
   },
   "outputs": [],
   "source": [
    "#read in the breast cancer RNA-seq data\n",
    "#os.chdir(\"/Users/W.Jiang/cs109/Final-Project/RNAseq\")\n",
    "#os.chdir(\"/Users/suqinhou/Dropbox/Courses/Harvard/Stat 121/Data Science Final Project\")"
   ]
  },
  {
   "cell_type": "code",
   "execution_count": 3,
   "metadata": {
    "collapsed": false
   },
   "outputs": [],
   "source": [
    "f = open(\"brca.txt\",\"rb\")\n",
    "headers = str(f.next()).strip('[').strip(']').strip(\"'\").replace('\"','').split() #Create columns for the table from csv object\n",
    "f.close()\n",
    "df=pd.read_csv('brca.txt', sep=' ',names=['index'] + headers,low_memory=False)"
   ]
  },
  {
   "cell_type": "code",
   "execution_count": 4,
   "metadata": {
    "collapsed": false
   },
   "outputs": [],
   "source": [
    "brca = df.ix[1:] #Delete the first row (duplicate)\n",
    "brca = brca[brca['index'].map(lambda x: x[0]) != '?'] # delete those with ? in the gene name\n",
    "brca['index'] = brca['index'].map(lambda x: x.split('|',1)[0])# strip out the part after '|' in gene ID\n",
    "brca = brca.set_index(brca['index'])\n",
    "brca = brca.drop('index',1)"
   ]
  },
  {
   "cell_type": "code",
   "execution_count": 5,
   "metadata": {
    "collapsed": false
   },
   "outputs": [
    {
     "data": {
      "text/plain": [
       "20502"
      ]
     },
     "execution_count": 5,
     "metadata": {},
     "output_type": "execute_result"
    }
   ],
   "source": [
    "len(brca)"
   ]
  },
  {
   "cell_type": "markdown",
   "metadata": {},
   "source": [
    "Among the more than 20,000 genes in total, we considered those top 1000 genes with the largest variances in our following analysis. "
   ]
  },
  {
   "cell_type": "code",
   "execution_count": 6,
   "metadata": {
    "collapsed": false
   },
   "outputs": [],
   "source": [
    "#duplicate the brca dataflame for sorting\n",
    "brca_for_sort = brca\n",
    "brca_for_sort['var'] = brca_for_sort[headers].values.astype(np.float).var(axis=1) \n",
    "#convert strings into floats, then calculate the variance across each row"
   ]
  },
  {
   "cell_type": "code",
   "execution_count": 7,
   "metadata": {
    "collapsed": false
   },
   "outputs": [
    {
     "data": {
      "text/html": [
       "<div>\n",
       "<table border=\"1\" class=\"dataframe\">\n",
       "  <thead>\n",
       "    <tr style=\"text-align: right;\">\n",
       "      <th></th>\n",
       "      <th>TCGA-3C-AAAU-01A-11R-A41B-07</th>\n",
       "      <th>TCGA-3C-AALI-01A-11R-A41B-07</th>\n",
       "      <th>TCGA-3C-AALJ-01A-31R-A41B-07</th>\n",
       "      <th>TCGA-3C-AALK-01A-11R-A41B-07</th>\n",
       "      <th>TCGA-4H-AAAK-01A-12R-A41B-07</th>\n",
       "      <th>TCGA-5L-AAT0-01A-12R-A41B-07</th>\n",
       "      <th>TCGA-5L-AAT1-01A-12R-A41B-07</th>\n",
       "      <th>TCGA-5T-A9QA-01A-11R-A41B-07</th>\n",
       "      <th>TCGA-A1-A0SB-01A-11R-A144-07</th>\n",
       "      <th>TCGA-A1-A0SD-01A-11R-A115-07</th>\n",
       "      <th>...</th>\n",
       "      <th>TCGA-UU-A93S-01A-21R-A41B-07</th>\n",
       "      <th>TCGA-V7-A7HQ-01A-11R-A33J-07</th>\n",
       "      <th>TCGA-W8-A86G-01A-21R-A36F-07</th>\n",
       "      <th>TCGA-WT-AB41-01A-11R-A41B-07</th>\n",
       "      <th>TCGA-WT-AB44-01A-11R-A41B-07</th>\n",
       "      <th>TCGA-XX-A899-01A-11R-A36F-07</th>\n",
       "      <th>TCGA-XX-A89A-01A-11R-A36F-07</th>\n",
       "      <th>TCGA-Z7-A8R5-01A-42R-A41B-07</th>\n",
       "      <th>TCGA-Z7-A8R6-01A-11R-A41B-07</th>\n",
       "      <th>var</th>\n",
       "    </tr>\n",
       "    <tr>\n",
       "      <th>index</th>\n",
       "      <th></th>\n",
       "      <th></th>\n",
       "      <th></th>\n",
       "      <th></th>\n",
       "      <th></th>\n",
       "      <th></th>\n",
       "      <th></th>\n",
       "      <th></th>\n",
       "      <th></th>\n",
       "      <th></th>\n",
       "      <th></th>\n",
       "      <th></th>\n",
       "      <th></th>\n",
       "      <th></th>\n",
       "      <th></th>\n",
       "      <th></th>\n",
       "      <th></th>\n",
       "      <th></th>\n",
       "      <th></th>\n",
       "      <th></th>\n",
       "      <th></th>\n",
       "    </tr>\n",
       "  </thead>\n",
       "  <tbody>\n",
       "    <tr>\n",
       "      <th>A1BG</th>\n",
       "      <td>1.01881289781952e-05</td>\n",
       "      <td>1.14079985273912e-05</td>\n",
       "      <td>1.99325948087105e-05</td>\n",
       "      <td>8.72411049461146e-06</td>\n",
       "      <td>1.44905852302135e-05</td>\n",
       "      <td>9.71237557369492e-06</td>\n",
       "      <td>9.65074933885455e-06</td>\n",
       "      <td>1.59264077208317e-05</td>\n",
       "      <td>2.2323725422463e-06</td>\n",
       "      <td>8.0162609773865e-06</td>\n",
       "      <td>...</td>\n",
       "      <td>1.13141031197897e-05</td>\n",
       "      <td>3.032188632983e-05</td>\n",
       "      <td>2.3545697019954e-05</td>\n",
       "      <td>3.65594822846963e-06</td>\n",
       "      <td>1.4609724810879e-05</td>\n",
       "      <td>1.15030998873056e-05</td>\n",
       "      <td>1.24684577564409e-05</td>\n",
       "      <td>1.4884298438628e-05</td>\n",
       "      <td>1.215673e-05</td>\n",
       "      <td>1.215380e-10</td>\n",
       "    </tr>\n",
       "    <tr>\n",
       "      <th>A1CF</th>\n",
       "      <td>0</td>\n",
       "      <td>0</td>\n",
       "      <td>3.58953580309195e-08</td>\n",
       "      <td>0</td>\n",
       "      <td>1.99323471009639e-08</td>\n",
       "      <td>0</td>\n",
       "      <td>0</td>\n",
       "      <td>2.22791463558643e-08</td>\n",
       "      <td>0</td>\n",
       "      <td>0</td>\n",
       "      <td>...</td>\n",
       "      <td>0</td>\n",
       "      <td>0</td>\n",
       "      <td>1.89631408209442e-08</td>\n",
       "      <td>0</td>\n",
       "      <td>0</td>\n",
       "      <td>0</td>\n",
       "      <td>1.02413793484488e-07</td>\n",
       "      <td>0</td>\n",
       "      <td>0.000000e+00</td>\n",
       "      <td>1.481781e-14</td>\n",
       "    </tr>\n",
       "    <tr>\n",
       "      <th>A2BP1</th>\n",
       "      <td>0</td>\n",
       "      <td>0</td>\n",
       "      <td>0</td>\n",
       "      <td>0</td>\n",
       "      <td>1.41735889079037e-07</td>\n",
       "      <td>1.2289968894282e-08</td>\n",
       "      <td>0</td>\n",
       "      <td>2.62648752171274e-08</td>\n",
       "      <td>9.65595689743299e-08</td>\n",
       "      <td>8.01086542803903e-09</td>\n",
       "      <td>...</td>\n",
       "      <td>0</td>\n",
       "      <td>6.5034799328383e-09</td>\n",
       "      <td>1.04926864397151e-07</td>\n",
       "      <td>6.21223622460735e-08</td>\n",
       "      <td>0</td>\n",
       "      <td>9.15069832630146e-09</td>\n",
       "      <td>3.10698114342e-08</td>\n",
       "      <td>8.55916003938755e-09</td>\n",
       "      <td>0.000000e+00</td>\n",
       "      <td>7.831692e-13</td>\n",
       "    </tr>\n",
       "    <tr>\n",
       "      <th>A2LD1</th>\n",
       "      <td>6.47474016159085e-06</td>\n",
       "      <td>4.1348151493856e-06</td>\n",
       "      <td>7.80704982137846e-06</td>\n",
       "      <td>3.55063344442918e-06</td>\n",
       "      <td>9.55175021410549e-06</td>\n",
       "      <td>6.26812816742581e-06</td>\n",
       "      <td>4.91162712233055e-06</td>\n",
       "      <td>1.24416243240439e-05</td>\n",
       "      <td>2.20388078986896e-06</td>\n",
       "      <td>4.01040741351564e-06</td>\n",
       "      <td>...</td>\n",
       "      <td>9.03659930587086e-06</td>\n",
       "      <td>4.60868287289633e-06</td>\n",
       "      <td>2.96340215462349e-06</td>\n",
       "      <td>1.17914724850658e-05</td>\n",
       "      <td>2.09905225533371e-06</td>\n",
       "      <td>7.94216016470063e-06</td>\n",
       "      <td>4.81380826483996e-06</td>\n",
       "      <td>3.25342576174833e-06</td>\n",
       "      <td>1.399370e-06</td>\n",
       "      <td>8.162138e-12</td>\n",
       "    </tr>\n",
       "    <tr>\n",
       "      <th>A2ML1</th>\n",
       "      <td>3.70184712303817e-08</td>\n",
       "      <td>8.41019598961399e-08</td>\n",
       "      <td>0</td>\n",
       "      <td>3.5349932383371e-08</td>\n",
       "      <td>1.19811479603399e-07</td>\n",
       "      <td>2.8515776354738e-08</td>\n",
       "      <td>8.9120519294382e-08</td>\n",
       "      <td>0</td>\n",
       "      <td>1.00403075674108e-07</td>\n",
       "      <td>1.52136284485427e-07</td>\n",
       "      <td>...</td>\n",
       "      <td>0</td>\n",
       "      <td>2.53110859799124e-07</td>\n",
       "      <td>3.0505690142291e-08</td>\n",
       "      <td>0</td>\n",
       "      <td>9.77784829107319e-08</td>\n",
       "      <td>1.06236434899247e-08</td>\n",
       "      <td>1.19875727204858e-06</td>\n",
       "      <td>3.81709552874463e-08</td>\n",
       "      <td>1.317897e-07</td>\n",
       "      <td>4.305299e-10</td>\n",
       "    </tr>\n",
       "  </tbody>\n",
       "</table>\n",
       "<p>5 rows × 1210 columns</p>\n",
       "</div>"
      ],
      "text/plain": [
       "      TCGA-3C-AAAU-01A-11R-A41B-07 TCGA-3C-AALI-01A-11R-A41B-07  \\\n",
       "index                                                             \n",
       "A1BG          1.01881289781952e-05         1.14079985273912e-05   \n",
       "A1CF                             0                            0   \n",
       "A2BP1                            0                            0   \n",
       "A2LD1         6.47474016159085e-06          4.1348151493856e-06   \n",
       "A2ML1         3.70184712303817e-08         8.41019598961399e-08   \n",
       "\n",
       "      TCGA-3C-AALJ-01A-31R-A41B-07 TCGA-3C-AALK-01A-11R-A41B-07  \\\n",
       "index                                                             \n",
       "A1BG          1.99325948087105e-05         8.72411049461146e-06   \n",
       "A1CF          3.58953580309195e-08                            0   \n",
       "A2BP1                            0                            0   \n",
       "A2LD1         7.80704982137846e-06         3.55063344442918e-06   \n",
       "A2ML1                            0          3.5349932383371e-08   \n",
       "\n",
       "      TCGA-4H-AAAK-01A-12R-A41B-07 TCGA-5L-AAT0-01A-12R-A41B-07  \\\n",
       "index                                                             \n",
       "A1BG          1.44905852302135e-05         9.71237557369492e-06   \n",
       "A1CF          1.99323471009639e-08                            0   \n",
       "A2BP1         1.41735889079037e-07          1.2289968894282e-08   \n",
       "A2LD1         9.55175021410549e-06         6.26812816742581e-06   \n",
       "A2ML1         1.19811479603399e-07          2.8515776354738e-08   \n",
       "\n",
       "      TCGA-5L-AAT1-01A-12R-A41B-07 TCGA-5T-A9QA-01A-11R-A41B-07  \\\n",
       "index                                                             \n",
       "A1BG          9.65074933885455e-06         1.59264077208317e-05   \n",
       "A1CF                             0         2.22791463558643e-08   \n",
       "A2BP1                            0         2.62648752171274e-08   \n",
       "A2LD1         4.91162712233055e-06         1.24416243240439e-05   \n",
       "A2ML1          8.9120519294382e-08                            0   \n",
       "\n",
       "      TCGA-A1-A0SB-01A-11R-A144-07 TCGA-A1-A0SD-01A-11R-A115-07      ...       \\\n",
       "index                                                                ...        \n",
       "A1BG           2.2323725422463e-06          8.0162609773865e-06      ...        \n",
       "A1CF                             0                            0      ...        \n",
       "A2BP1         9.65595689743299e-08         8.01086542803903e-09      ...        \n",
       "A2LD1         2.20388078986896e-06         4.01040741351564e-06      ...        \n",
       "A2ML1         1.00403075674108e-07         1.52136284485427e-07      ...        \n",
       "\n",
       "      TCGA-UU-A93S-01A-21R-A41B-07 TCGA-V7-A7HQ-01A-11R-A33J-07  \\\n",
       "index                                                             \n",
       "A1BG          1.13141031197897e-05           3.032188632983e-05   \n",
       "A1CF                             0                            0   \n",
       "A2BP1                            0          6.5034799328383e-09   \n",
       "A2LD1         9.03659930587086e-06         4.60868287289633e-06   \n",
       "A2ML1                            0         2.53110859799124e-07   \n",
       "\n",
       "      TCGA-W8-A86G-01A-21R-A36F-07 TCGA-WT-AB41-01A-11R-A41B-07  \\\n",
       "index                                                             \n",
       "A1BG           2.3545697019954e-05         3.65594822846963e-06   \n",
       "A1CF          1.89631408209442e-08                            0   \n",
       "A2BP1         1.04926864397151e-07         6.21223622460735e-08   \n",
       "A2LD1         2.96340215462349e-06         1.17914724850658e-05   \n",
       "A2ML1          3.0505690142291e-08                            0   \n",
       "\n",
       "      TCGA-WT-AB44-01A-11R-A41B-07 TCGA-XX-A899-01A-11R-A36F-07  \\\n",
       "index                                                             \n",
       "A1BG           1.4609724810879e-05         1.15030998873056e-05   \n",
       "A1CF                             0                            0   \n",
       "A2BP1                            0         9.15069832630146e-09   \n",
       "A2LD1         2.09905225533371e-06         7.94216016470063e-06   \n",
       "A2ML1         9.77784829107319e-08         1.06236434899247e-08   \n",
       "\n",
       "      TCGA-XX-A89A-01A-11R-A36F-07 TCGA-Z7-A8R5-01A-42R-A41B-07  \\\n",
       "index                                                             \n",
       "A1BG          1.24684577564409e-05          1.4884298438628e-05   \n",
       "A1CF          1.02413793484488e-07                            0   \n",
       "A2BP1            3.10698114342e-08         8.55916003938755e-09   \n",
       "A2LD1         4.81380826483996e-06         3.25342576174833e-06   \n",
       "A2ML1         1.19875727204858e-06         3.81709552874463e-08   \n",
       "\n",
       "      TCGA-Z7-A8R6-01A-11R-A41B-07           var  \n",
       "index                                             \n",
       "A1BG                  1.215673e-05  1.215380e-10  \n",
       "A1CF                  0.000000e+00  1.481781e-14  \n",
       "A2BP1                 0.000000e+00  7.831692e-13  \n",
       "A2LD1                 1.399370e-06  8.162138e-12  \n",
       "A2ML1                 1.317897e-07  4.305299e-10  \n",
       "\n",
       "[5 rows x 1210 columns]"
      ]
     },
     "execution_count": 7,
     "metadata": {},
     "output_type": "execute_result"
    }
   ],
   "source": [
    "brca_for_sort.head()"
   ]
  },
  {
   "cell_type": "code",
   "execution_count": 8,
   "metadata": {
    "collapsed": false
   },
   "outputs": [
    {
     "data": {
      "text/html": [
       "<div>\n",
       "<table border=\"1\" class=\"dataframe\">\n",
       "  <thead>\n",
       "    <tr style=\"text-align: right;\">\n",
       "      <th></th>\n",
       "      <th>TCGA-3C-AAAU-01A-11R-A41B-07</th>\n",
       "      <th>TCGA-3C-AALI-01A-11R-A41B-07</th>\n",
       "      <th>TCGA-3C-AALJ-01A-31R-A41B-07</th>\n",
       "      <th>TCGA-3C-AALK-01A-11R-A41B-07</th>\n",
       "      <th>TCGA-4H-AAAK-01A-12R-A41B-07</th>\n",
       "      <th>TCGA-5L-AAT0-01A-12R-A41B-07</th>\n",
       "      <th>TCGA-5L-AAT1-01A-12R-A41B-07</th>\n",
       "      <th>TCGA-5T-A9QA-01A-11R-A41B-07</th>\n",
       "      <th>TCGA-A1-A0SB-01A-11R-A144-07</th>\n",
       "      <th>TCGA-A1-A0SD-01A-11R-A115-07</th>\n",
       "      <th>...</th>\n",
       "      <th>TCGA-UU-A93S-01A-21R-A41B-07</th>\n",
       "      <th>TCGA-V7-A7HQ-01A-11R-A33J-07</th>\n",
       "      <th>TCGA-W8-A86G-01A-21R-A36F-07</th>\n",
       "      <th>TCGA-WT-AB41-01A-11R-A41B-07</th>\n",
       "      <th>TCGA-WT-AB44-01A-11R-A41B-07</th>\n",
       "      <th>TCGA-XX-A899-01A-11R-A36F-07</th>\n",
       "      <th>TCGA-XX-A89A-01A-11R-A36F-07</th>\n",
       "      <th>TCGA-Z7-A8R5-01A-42R-A41B-07</th>\n",
       "      <th>TCGA-Z7-A8R6-01A-11R-A41B-07</th>\n",
       "      <th>var</th>\n",
       "    </tr>\n",
       "    <tr>\n",
       "      <th>index</th>\n",
       "      <th></th>\n",
       "      <th></th>\n",
       "      <th></th>\n",
       "      <th></th>\n",
       "      <th></th>\n",
       "      <th></th>\n",
       "      <th></th>\n",
       "      <th></th>\n",
       "      <th></th>\n",
       "      <th></th>\n",
       "      <th></th>\n",
       "      <th></th>\n",
       "      <th></th>\n",
       "      <th></th>\n",
       "      <th></th>\n",
       "      <th></th>\n",
       "      <th></th>\n",
       "      <th></th>\n",
       "      <th></th>\n",
       "      <th></th>\n",
       "      <th></th>\n",
       "    </tr>\n",
       "  </thead>\n",
       "  <tbody>\n",
       "    <tr>\n",
       "      <th>SCGB2A2</th>\n",
       "      <td>0.0186505734368751</td>\n",
       "      <td>0.0178205531441308</td>\n",
       "      <td>0</td>\n",
       "      <td>9.78099787449726e-05</td>\n",
       "      <td>0.00871121218248043</td>\n",
       "      <td>0.00093079497962941</td>\n",
       "      <td>0.00113753353944611</td>\n",
       "      <td>0.0230041265817021</td>\n",
       "      <td>8.69922316690365e-05</td>\n",
       "      <td>0.000327052512734042</td>\n",
       "      <td>...</td>\n",
       "      <td>0.0115141969313085</td>\n",
       "      <td>0.000543484890606968</td>\n",
       "      <td>0.0393304457030222</td>\n",
       "      <td>1.73217586837015e-05</td>\n",
       "      <td>0.00206485983380529</td>\n",
       "      <td>0.00895594012045464</td>\n",
       "      <td>5.55272913213373e-05</td>\n",
       "      <td>0.00673317228892749</td>\n",
       "      <td>0.000052</td>\n",
       "      <td>0.000251</td>\n",
       "    </tr>\n",
       "    <tr>\n",
       "      <th>CPB1</th>\n",
       "      <td>0.0055114303871588</td>\n",
       "      <td>1.1262275269895e-06</td>\n",
       "      <td>0.000131441693673882</td>\n",
       "      <td>7.21176473065204e-06</td>\n",
       "      <td>3.89582977111009e-07</td>\n",
       "      <td>1.16548979866682e-05</td>\n",
       "      <td>2.19587814679159e-06</td>\n",
       "      <td>7.95415466856901e-05</td>\n",
       "      <td>6.26875185668725e-06</td>\n",
       "      <td>0.0295681127451367</td>\n",
       "      <td>...</td>\n",
       "      <td>3.25058526333033e-08</td>\n",
       "      <td>1.38374274144522e-06</td>\n",
       "      <td>1.48905411605549e-06</td>\n",
       "      <td>0.000149186801507467</td>\n",
       "      <td>1.01929690533058e-07</td>\n",
       "      <td>5.19866695990234e-07</td>\n",
       "      <td>4.66321369714884e-06</td>\n",
       "      <td>0.000132369013644085</td>\n",
       "      <td>0.000031</td>\n",
       "      <td>0.000101</td>\n",
       "    </tr>\n",
       "    <tr>\n",
       "      <th>MGP</th>\n",
       "      <td>0.000276937607783408</td>\n",
       "      <td>0.000121787246191076</td>\n",
       "      <td>0.0011757413002384</td>\n",
       "      <td>0.00694158504976205</td>\n",
       "      <td>0.00747009930169778</td>\n",
       "      <td>0.0113828515763375</td>\n",
       "      <td>0.00394848771084115</td>\n",
       "      <td>0.00382500558435123</td>\n",
       "      <td>0.00927748721515047</td>\n",
       "      <td>0.00260795680087271</td>\n",
       "      <td>...</td>\n",
       "      <td>0.00048674250033613</td>\n",
       "      <td>0.00994588511804627</td>\n",
       "      <td>0.031287251833136</td>\n",
       "      <td>0.0111834092673348</td>\n",
       "      <td>0.000828139711270908</td>\n",
       "      <td>0.00402797263320326</td>\n",
       "      <td>0.00215379800001475</td>\n",
       "      <td>0.0276906405275067</td>\n",
       "      <td>0.004617</td>\n",
       "      <td>0.000083</td>\n",
       "    </tr>\n",
       "    <tr>\n",
       "      <th>PIP</th>\n",
       "      <td>0.00201872844877064</td>\n",
       "      <td>6.55255423665201e-05</td>\n",
       "      <td>0</td>\n",
       "      <td>0.000578043633654244</td>\n",
       "      <td>4.28941689510483e-05</td>\n",
       "      <td>5.32784503760792e-05</td>\n",
       "      <td>0.000790555263928412</td>\n",
       "      <td>7.48698081895445e-05</td>\n",
       "      <td>9.67796355388749e-06</td>\n",
       "      <td>0.000906861352032841</td>\n",
       "      <td>...</td>\n",
       "      <td>0.000517480101254298</td>\n",
       "      <td>0.000274269036922022</td>\n",
       "      <td>0.000164484118521302</td>\n",
       "      <td>0.00102497181972606</td>\n",
       "      <td>0.00144021633794695</td>\n",
       "      <td>0.000136701446467891</td>\n",
       "      <td>0.000142479663385302</td>\n",
       "      <td>0.000404825695010722</td>\n",
       "      <td>0.000012</td>\n",
       "      <td>0.000054</td>\n",
       "    </tr>\n",
       "    <tr>\n",
       "      <th>SCGB1D2</th>\n",
       "      <td>0.00172617626428221</td>\n",
       "      <td>0.000444781525785907</td>\n",
       "      <td>2.56740518821484e-07</td>\n",
       "      <td>2.60980131248916e-05</td>\n",
       "      <td>0.000213420493811844</td>\n",
       "      <td>0.000178705696820472</td>\n",
       "      <td>0.000178257531770274</td>\n",
       "      <td>0.00163686807696162</td>\n",
       "      <td>7.48760788385168e-05</td>\n",
       "      <td>7.27535071229234e-05</td>\n",
       "      <td>...</td>\n",
       "      <td>0.00152538250288226</td>\n",
       "      <td>0.000169461812114143</td>\n",
       "      <td>0.00346768717469777</td>\n",
       "      <td>1.93597130546418e-06</td>\n",
       "      <td>0.000278859660595134</td>\n",
       "      <td>0.00487708586364221</td>\n",
       "      <td>3.17085734991636e-05</td>\n",
       "      <td>0.00130973550230481</td>\n",
       "      <td>0.000011</td>\n",
       "      <td>0.000053</td>\n",
       "    </tr>\n",
       "  </tbody>\n",
       "</table>\n",
       "<p>5 rows × 1210 columns</p>\n",
       "</div>"
      ],
      "text/plain": [
       "        TCGA-3C-AAAU-01A-11R-A41B-07 TCGA-3C-AALI-01A-11R-A41B-07  \\\n",
       "index                                                               \n",
       "SCGB2A2           0.0186505734368751           0.0178205531441308   \n",
       "CPB1              0.0055114303871588          1.1262275269895e-06   \n",
       "MGP             0.000276937607783408         0.000121787246191076   \n",
       "PIP              0.00201872844877064         6.55255423665201e-05   \n",
       "SCGB1D2          0.00172617626428221         0.000444781525785907   \n",
       "\n",
       "        TCGA-3C-AALJ-01A-31R-A41B-07 TCGA-3C-AALK-01A-11R-A41B-07  \\\n",
       "index                                                               \n",
       "SCGB2A2                            0         9.78099787449726e-05   \n",
       "CPB1            0.000131441693673882         7.21176473065204e-06   \n",
       "MGP               0.0011757413002384          0.00694158504976205   \n",
       "PIP                                0         0.000578043633654244   \n",
       "SCGB1D2         2.56740518821484e-07         2.60980131248916e-05   \n",
       "\n",
       "        TCGA-4H-AAAK-01A-12R-A41B-07 TCGA-5L-AAT0-01A-12R-A41B-07  \\\n",
       "index                                                               \n",
       "SCGB2A2          0.00871121218248043          0.00093079497962941   \n",
       "CPB1            3.89582977111009e-07         1.16548979866682e-05   \n",
       "MGP              0.00747009930169778           0.0113828515763375   \n",
       "PIP             4.28941689510483e-05         5.32784503760792e-05   \n",
       "SCGB1D2         0.000213420493811844         0.000178705696820472   \n",
       "\n",
       "        TCGA-5L-AAT1-01A-12R-A41B-07 TCGA-5T-A9QA-01A-11R-A41B-07  \\\n",
       "index                                                               \n",
       "SCGB2A2          0.00113753353944611           0.0230041265817021   \n",
       "CPB1            2.19587814679159e-06         7.95415466856901e-05   \n",
       "MGP              0.00394848771084115          0.00382500558435123   \n",
       "PIP             0.000790555263928412         7.48698081895445e-05   \n",
       "SCGB1D2         0.000178257531770274          0.00163686807696162   \n",
       "\n",
       "        TCGA-A1-A0SB-01A-11R-A144-07 TCGA-A1-A0SD-01A-11R-A115-07    ...     \\\n",
       "index                                                                ...      \n",
       "SCGB2A2         8.69922316690365e-05         0.000327052512734042    ...      \n",
       "CPB1            6.26875185668725e-06           0.0295681127451367    ...      \n",
       "MGP              0.00927748721515047          0.00260795680087271    ...      \n",
       "PIP             9.67796355388749e-06         0.000906861352032841    ...      \n",
       "SCGB1D2         7.48760788385168e-05         7.27535071229234e-05    ...      \n",
       "\n",
       "        TCGA-UU-A93S-01A-21R-A41B-07 TCGA-V7-A7HQ-01A-11R-A33J-07  \\\n",
       "index                                                               \n",
       "SCGB2A2           0.0115141969313085         0.000543484890606968   \n",
       "CPB1            3.25058526333033e-08         1.38374274144522e-06   \n",
       "MGP              0.00048674250033613          0.00994588511804627   \n",
       "PIP             0.000517480101254298         0.000274269036922022   \n",
       "SCGB1D2          0.00152538250288226         0.000169461812114143   \n",
       "\n",
       "        TCGA-W8-A86G-01A-21R-A36F-07 TCGA-WT-AB41-01A-11R-A41B-07  \\\n",
       "index                                                               \n",
       "SCGB2A2           0.0393304457030222         1.73217586837015e-05   \n",
       "CPB1            1.48905411605549e-06         0.000149186801507467   \n",
       "MGP                0.031287251833136           0.0111834092673348   \n",
       "PIP             0.000164484118521302          0.00102497181972606   \n",
       "SCGB1D2          0.00346768717469777         1.93597130546418e-06   \n",
       "\n",
       "        TCGA-WT-AB44-01A-11R-A41B-07 TCGA-XX-A899-01A-11R-A36F-07  \\\n",
       "index                                                               \n",
       "SCGB2A2          0.00206485983380529          0.00895594012045464   \n",
       "CPB1            1.01929690533058e-07         5.19866695990234e-07   \n",
       "MGP             0.000828139711270908          0.00402797263320326   \n",
       "PIP              0.00144021633794695         0.000136701446467891   \n",
       "SCGB1D2         0.000278859660595134          0.00487708586364221   \n",
       "\n",
       "        TCGA-XX-A89A-01A-11R-A36F-07 TCGA-Z7-A8R5-01A-42R-A41B-07  \\\n",
       "index                                                               \n",
       "SCGB2A2         5.55272913213373e-05          0.00673317228892749   \n",
       "CPB1            4.66321369714884e-06         0.000132369013644085   \n",
       "MGP              0.00215379800001475           0.0276906405275067   \n",
       "PIP             0.000142479663385302         0.000404825695010722   \n",
       "SCGB1D2         3.17085734991636e-05          0.00130973550230481   \n",
       "\n",
       "        TCGA-Z7-A8R6-01A-11R-A41B-07       var  \n",
       "index                                           \n",
       "SCGB2A2                     0.000052  0.000251  \n",
       "CPB1                        0.000031  0.000101  \n",
       "MGP                         0.004617  0.000083  \n",
       "PIP                         0.000012  0.000054  \n",
       "SCGB1D2                     0.000011  0.000053  \n",
       "\n",
       "[5 rows x 1210 columns]"
      ]
     },
     "execution_count": 8,
     "metadata": {},
     "output_type": "execute_result"
    }
   ],
   "source": [
    "brca_for_sort = brca_for_sort.sort('var', ascending=False) #sort the brca by variance from highest to lowest\n",
    "brca_1000 = brca_for_sort[:1000]\n",
    "brca_1000.head()"
   ]
  },
  {
   "cell_type": "code",
   "execution_count": 9,
   "metadata": {
    "collapsed": false
   },
   "outputs": [],
   "source": [
    "brca_1000_trans = brca_1000.transpose()\n",
    "brca_1000_trans = brca_1000_trans[0:1209]    # remove the variance row"
   ]
  },
  {
   "cell_type": "markdown",
   "metadata": {},
   "source": [
    "## K-Means Clustering"
   ]
  },
  {
   "cell_type": "markdown",
   "metadata": {},
   "source": [
    "Based on the gene expression profiles of the top 1000 genes with the largest variances, we then did K-means clustering of all the 1209 patients. First, we tried to divide the total samples into 2 clusters, by which we wanted to see whether tumor samples and adjacent normal samples could be divided into two groups."
   ]
  },
  {
   "cell_type": "code",
   "execution_count": 10,
   "metadata": {
    "collapsed": true
   },
   "outputs": [],
   "source": [
    "#from the barcodes of the patients, we first set k=2\n",
    "cluster2_predict = KMeans(n_clusters=2, init='k-means++', n_init=10, max_iter=10000, tol=0.0001, precompute_distances='auto', \n",
    "                          verbose=0, random_state=None, copy_x=True, n_jobs=1).fit_predict(brca_1000_trans, y=None)"
   ]
  },
  {
   "cell_type": "code",
   "execution_count": 11,
   "metadata": {
    "collapsed": false
   },
   "outputs": [],
   "source": [
    "cluster2_predict = np.asarray(cluster2_predict.tolist())"
   ]
  },
  {
   "cell_type": "code",
   "execution_count": 12,
   "metadata": {
    "collapsed": false
   },
   "outputs": [],
   "source": [
    "#find out the tumor sample VS normal sample\n",
    "tumor_ind=[]\n",
    "for i in range(len(brca_1000_trans.index)):\n",
    "    if brca_1000_trans.index[i][13:15]==\"01\": #tumor samples\n",
    "        tumor_ind.append(1)\n",
    "    elif brca_1000_trans.index[i][13:15]==\"11\": #adjacent normal samples\n",
    "        tumor_ind.append(0)\n",
    "    else:\n",
    "        tumor_ind.append(1)"
   ]
  },
  {
   "cell_type": "code",
   "execution_count": 13,
   "metadata": {
    "collapsed": false
   },
   "outputs": [],
   "source": [
    "#compare the k=2 clustering result with the tumor VS normal classification\n",
    "count = 0\n",
    "for i in range(len(tumor_ind)):\n",
    "    if sum(cluster2_predict)>len(tumor_ind)/2:\n",
    "        if tumor_ind[i]==cluster2_predict[i]:\n",
    "            count = count+1\n",
    "    else:\n",
    "        if tumor_ind[i]!=cluster2_predict[i]:\n",
    "            count = count+1\n",
    "        \n",
    "accuracy=(count+0.0)/len(tumor_ind)            "
   ]
  },
  {
   "cell_type": "code",
   "execution_count": 14,
   "metadata": {
    "collapsed": false
   },
   "outputs": [
    {
     "data": {
      "text/plain": [
       "0.8577336641852771"
      ]
     },
     "execution_count": 14,
     "metadata": {},
     "output_type": "execute_result"
    }
   ],
   "source": [
    "accuracy"
   ]
  },
  {
   "cell_type": "markdown",
   "metadata": {},
   "source": [
    "By comparing the results from K-Means clustering results and actual tumor VS normal classification, the accuracy is pretty high. In that sense, we can trust K-Means clustering for our futher analysis on this dataset. On the other hand, the 15% error might suggest substantial variances within each group."
   ]
  },
  {
   "cell_type": "code",
   "execution_count": 15,
   "metadata": {
    "collapsed": false
   },
   "outputs": [],
   "source": [
    "#transform the dataframe to array with float datatype\n",
    "brca_array = np.array(brca_1000_trans,dtype=float)"
   ]
  },
  {
   "cell_type": "markdown",
   "metadata": {},
   "source": [
    "To find the optimal number of clusters, we drew a Elbow curve which shows the change of average within-cluster variances as the k increases. If we find after a specific k, the within-cluster variances drops slowly or keeps the same, we might think this is a nice k."
   ]
  },
  {
   "cell_type": "code",
   "execution_count": 16,
   "metadata": {
    "collapsed": false
   },
   "outputs": [],
   "source": [
    "K = range(1,10)\n",
    "KM = [kmeans(brca_array,k) for k in K]\n",
    "centroids = [cent for (cent,var) in KM]   # cluster centroids\n",
    "avgWithinSS = [var for (cent,var) in KM] # mean within-cluster sum of squares"
   ]
  },
  {
   "cell_type": "code",
   "execution_count": 17,
   "metadata": {
    "collapsed": false
   },
   "outputs": [
    {
     "data": {
      "image/png": "[encoded data removed]",
      "text/plain": [
       "<matplotlib.figure.Figure at 0x1a4758f10>"
      ]
     },
     "metadata": {},
     "output_type": "display_data"
    }
   ],
   "source": [
    "# elbow curve for validation\n",
    "%matplotlib inline\n",
    "kIdx = 3\n",
    "fig = plt.figure(figsize=(12,8))\n",
    "ax = fig.add_subplot(111)\n",
    "ax.plot(K, avgWithinSS, 'b*-')\n",
    "ax.plot(K[kIdx], avgWithinSS[kIdx], marker='o', markersize=12, \n",
    "    markeredgewidth=2, markeredgecolor='r', markerfacecolor='None')\n",
    "plt.grid(True)\n",
    "plt.xlabel('Number of clusters')\n",
    "plt.ylabel('Average within-cluster sum of squares')\n",
    "plt.title('Elbow for KMeans clustering')\n",
    "plt.show()"
   ]
  },
  {
   "cell_type": "markdown",
   "metadata": {},
   "source": [
    "Based on the Elbow curve above, there are most likely 4 clusters in total.                                        However, for now we used the dataset which includes both normal samples and tumor samples."
   ]
  },
  {
   "cell_type": "code",
   "execution_count": 18,
   "metadata": {
    "collapsed": false
   },
   "outputs": [],
   "source": [
    "cluster4_predict = KMeans(n_clusters=4, init='k-means++', n_init=10, max_iter=1000, tol=0.0001, precompute_distances='auto', verbose=0, \n",
    "       random_state=None, copy_x=True, n_jobs=1).fit_predict(brca_1000_trans, y=None)"
   ]
  },
  {
   "cell_type": "code",
   "execution_count": 19,
   "metadata": {
    "collapsed": false
   },
   "outputs": [],
   "source": [
    "cluster4_predict = np.asarray(cluster4_predict.tolist())"
   ]
  },
  {
   "cell_type": "code",
   "execution_count": 20,
   "metadata": {
    "collapsed": false
   },
   "outputs": [
    {
     "data": {
      "text/plain": [
       "array([1, 1, 1, 1, 1, 1, 1, 1, 3, 1, 1, 1, 0, 1, 1, 1, 0, 1, 1, 1, 0, 1, 1,\n",
       "       1, 3, 1, 1, 1, 0, 0, 1, 1, 1, 1, 1, 1, 1, 1, 1, 1, 1, 1, 1, 1, 1, 1,\n",
       "       1, 1, 1, 1, 3, 1, 1, 1, 1, 1, 3, 1, 1, 1, 1, 1, 1, 1, 1, 1, 1, 1, 1,\n",
       "       1, 1, 1, 1, 1, 1, 1, 1, 1, 1, 1, 1, 1, 1, 1, 3, 1, 1, 1, 1, 1, 1, 1,\n",
       "       1, 1, 1, 1, 1, 1, 1])"
      ]
     },
     "execution_count": 20,
     "metadata": {},
     "output_type": "execute_result"
    }
   ],
   "source": [
    "cluster4_predict[1:100]"
   ]
  },
  {
   "cell_type": "code",
   "execution_count": 21,
   "metadata": {
    "collapsed": false
   },
   "outputs": [],
   "source": [
    "color = []\n",
    "for i in cluster4_predict:\n",
    "    if i == 1:\n",
    "        color.append('green')\n",
    "    elif i == 2:\n",
    "        color.append('red')\n",
    "    elif i == 3:\n",
    "        color.append('blue')\n",
    "    else:\n",
    "        color.append('yellow')"
   ]
  },
  {
   "cell_type": "markdown",
   "metadata": {},
   "source": [
    "To show the result of K-Means cluster, with k set to 4, we drew a 2-D plot showing the distribution of gene signatures of the top two genes based on their sorted variances, among the 1209 patients. "
   ]
  },
  {
   "cell_type": "code",
   "execution_count": 22,
   "metadata": {
    "collapsed": false,
    "scrolled": true
   },
   "outputs": [
    {
     "name": "stderr",
     "output_type": "stream",
     "text": [
      "/Users/suqinhou/anaconda/lib/python2.7/site-packages/matplotlib/collections.py:590: FutureWarning: elementwise comparison failed; returning scalar instead, but in the future will perform elementwise comparison\n",
      "  if self._edgecolors == str('face'):\n"
     ]
    },
    {
     "data": {
      "image/png": "[encoded data removed]",
      "text/plain": [
       "<matplotlib.figure.Figure at 0x10a49d450>"
      ]
     },
     "metadata": {},
     "output_type": "display_data"
    }
   ],
   "source": [
    "plt.scatter(brca_1000.iloc[0:1,0:1209].values.tolist()[0], brca_1000.iloc[1:2,0:1209].values.tolist()[0], c=color, alpha=0.5)\n",
    "plt.show()"
   ]
  },
  {
   "cell_type": "markdown",
   "metadata": {},
   "source": [
    "We also drew a 3-D plot showing the 1209 patients' distribution of their gene expression profiles of the top genes based on their sorted variances."
   ]
  },
  {
   "cell_type": "code",
   "execution_count": 23,
   "metadata": {
    "collapsed": false
   },
   "outputs": [
    {
     "data": {
      "image/png": "[encoded data removed]",
      "text/plain": [
       "<matplotlib.figure.Figure at 0x10a56ce50>"
      ]
     },
     "metadata": {},
     "output_type": "display_data"
    }
   ],
   "source": [
    "import pylab\n",
    "from mpl_toolkits.mplot3d import Axes3D\n",
    "\n",
    "fig = plt.figure()\n",
    "ax = fig.add_subplot(111, projection='3d')\n",
    "ax.scatter([float(i) for i in brca_1000.iloc[0:1,0:1209].values.tolist()[0]], \n",
    "           [float(i) for i in (brca_1000.iloc[1:2,0:1209].values.tolist()[0])], [float(i) for i in (brca_1000.iloc[2:3,0:1209].values.tolist()[0])],\n",
    "           c=color)\n",
    "plt.show()"
   ]
  },
  {
   "cell_type": "markdown",
   "metadata": {},
   "source": [
    "By far, we did all our analysis based on both normal samples and tumor samples. However, the result shows that the number of three clusters are relatively small compared to the remaining one. We thought the inner variances among the normal samples are higher, which obscured the variances among the tumor samples. So we turn to tumor samples only."
   ]
  },
  {
   "cell_type": "code",
   "execution_count": 24,
   "metadata": {
    "collapsed": true
   },
   "outputs": [],
   "source": [
    "#pick out the tumor sample(remove the normal sample)\n",
    "brca_tumor = brca_1000_trans[brca_1000_trans.index.map(lambda x: x[13:15]) != '11']\n",
    "brca_tumor = pd.DataFrame(brca_tumor, dtype='float')"
   ]
  },
  {
   "cell_type": "markdown",
   "metadata": {},
   "source": [
    "Similar as before, we drew Elbow curve to find the optimal number of clusters in the tumor samples."
   ]
  },
  {
   "cell_type": "code",
   "execution_count": 25,
   "metadata": {
    "collapsed": false
   },
   "outputs": [],
   "source": [
    "tumor_array = np.array(brca_tumor,dtype=float)\n",
    "K = range(1,10)\n",
    "KM_tumor = [kmeans(tumor_array,k) for k in K]\n",
    "centroids_tumor = [cent for (cent,var) in KM_tumor]   \n",
    "avgWithinSS_tumor = [var for (cent,var) in KM_tumor] "
   ]
  },
  {
   "cell_type": "code",
   "execution_count": 26,
   "metadata": {
    "collapsed": false
   },
   "outputs": [
    {
     "data": {
      "image/png": "[encoded data removed]",
      "text/plain": [
       "<matplotlib.figure.Figure at 0x10a576bd0>"
      ]
     },
     "metadata": {},
     "output_type": "display_data"
    }
   ],
   "source": [
    "kIdx = 2\n",
    "fig = plt.figure(figsize=(12,8))\n",
    "ax = fig.add_subplot(111)\n",
    "ax.plot(K, avgWithinSS_tumor, 'b*-')\n",
    "ax.plot(K[kIdx], avgWithinSS_tumor[kIdx], marker='o', markersize=12, \n",
    "    markeredgewidth=2, markeredgecolor='r', markerfacecolor='None')\n",
    "plt.grid(True)\n",
    "plt.xlabel('Number of clusters')\n",
    "plt.ylabel('Average within-cluster sum of squares')\n",
    "plt.title('Elbow for KMeans clustering')\n",
    "plt.show()"
   ]
  },
  {
   "cell_type": "markdown",
   "metadata": {},
   "source": [
    "Based on the Elbow curve above, there are most likely 3 or 4 clusters in total among the 1098 tumor samples."
   ]
  },
  {
   "cell_type": "code",
   "execution_count": 27,
   "metadata": {
    "collapsed": true
   },
   "outputs": [],
   "source": [
    "cluster3_predict = KMeans(n_clusters=3, init='k-means++', n_init=10, max_iter=1000, tol=0.0001, precompute_distances='auto', verbose=0, \n",
    "       random_state=None, copy_x=True, n_jobs=1).fit_predict(brca_tumor, y=None)"
   ]
  },
  {
   "cell_type": "code",
   "execution_count": 28,
   "metadata": {
    "collapsed": true
   },
   "outputs": [],
   "source": [
    "cluster3_predict = np.asarray(cluster3_predict.tolist())"
   ]
  },
  {
   "cell_type": "code",
   "execution_count": 29,
   "metadata": {
    "collapsed": false
   },
   "outputs": [
    {
     "data": {
      "text/plain": [
       "array([1, 1, 1, 1, 1, 1, 1, 1, 1, 1, 1, 1, 0, 1, 1, 1, 0, 1, 1, 1, 0, 1, 1,\n",
       "       1, 2, 1, 1, 1, 0, 0, 1, 1, 1, 1, 1, 1, 1, 1, 1, 1, 1, 1, 1, 1, 1, 1,\n",
       "       1, 1, 1, 1, 2, 1, 1, 1, 1, 1, 2, 1, 1, 1, 1, 1, 1, 1, 1, 1, 1, 1, 1,\n",
       "       1, 1, 1, 1, 1, 1, 1, 1, 1, 1, 1, 1, 1, 1, 1, 2, 1, 1, 1, 1, 1, 1, 1,\n",
       "       1, 1, 1, 1, 1, 1, 1])"
      ]
     },
     "execution_count": 29,
     "metadata": {},
     "output_type": "execute_result"
    }
   ],
   "source": [
    "cluster3_predict[1:100]"
   ]
  },
  {
   "cell_type": "markdown",
   "metadata": {},
   "source": [
    "## Principle Component Analysis"
   ]
  },
  {
   "cell_type": "markdown",
   "metadata": {},
   "source": [
    "Since the result of K-Means cluster is not very satisfying, we then turned to Principle Component Analysis, to better visualize different subsets. In addition, we wanted to find the principle components, which we can then include in our prediction models."
   ]
  },
  {
   "cell_type": "code",
   "execution_count": 30,
   "metadata": {
    "collapsed": false
   },
   "outputs": [],
   "source": [
    "#PCA\n",
    "from sklearn.decomposition import PCA\n",
    "pca = PCA(n_components=3)\n",
    "brca_r = pca.fit(brca_tumor).transform(brca_tumor)"
   ]
  },
  {
   "cell_type": "code",
   "execution_count": 31,
   "metadata": {
    "collapsed": false
   },
   "outputs": [
    {
     "data": {
      "text/plain": [
       "array([[-0.01178205, -0.01070917,  0.00658301, ...,  0.00572922,\n",
       "        -0.00050498,  0.00641156],\n",
       "       [-0.00668249,  0.00205161,  0.00176211, ...,  0.00349612,\n",
       "         0.00530824,  0.00222475],\n",
       "       [ 0.00621962,  0.00870257,  0.00648739, ...,  0.00392296,\n",
       "        -0.01913241,  0.00254755]])"
      ]
     },
     "execution_count": 31,
     "metadata": {},
     "output_type": "execute_result"
    }
   ],
   "source": [
    "brca_pca_trans = brca_r.transpose()\n",
    "brca_pca_trans"
   ]
  },
  {
   "cell_type": "code",
   "execution_count": 32,
   "metadata": {
    "collapsed": false
   },
   "outputs": [],
   "source": [
    "color2 = []\n",
    "for i in cluster3_predict:\n",
    "    if i == 0:\n",
    "        color2.append('green')\n",
    "    elif i == 1:\n",
    "        color2.append('red')\n",
    "    else:\n",
    "        color2.append('blue')\n"
   ]
  },
  {
   "cell_type": "code",
   "execution_count": 33,
   "metadata": {
    "collapsed": false
   },
   "outputs": [
    {
     "data": {
      "image/png": "[encoded data removed]",
      "text/plain": [
       "<matplotlib.figure.Figure at 0x10a492dd0>"
      ]
     },
     "metadata": {},
     "output_type": "display_data"
    }
   ],
   "source": [
    "#plot PC1, PC2, PC3\n",
    "fig = plt.figure()\n",
    "ax = fig.add_subplot(111, projection='3d')\n",
    "ax.scatter(brca_pca_trans[0], brca_pca_trans[1], brca_pca_trans[2], c=color2)\n",
    "plt.show()"
   ]
  },
  {
   "cell_type": "code",
   "execution_count": 34,
   "metadata": {
    "collapsed": false
   },
   "outputs": [],
   "source": [
    "brca_tumor_trans = brca_tumor.transpose() # transpose tumor data"
   ]
  },
  {
   "cell_type": "code",
   "execution_count": 35,
   "metadata": {
    "collapsed": false
   },
   "outputs": [],
   "source": [
    "# add cluster indicator for each patient to the tumor data\n",
    "brca_tumor_trans.loc[len(brca_tumor_trans)+1]=cluster3_predict"
   ]
  },
  {
   "cell_type": "code",
   "execution_count": 36,
   "metadata": {
    "collapsed": false
   },
   "outputs": [
    {
     "data": {
      "text/html": [
       "<div>\n",
       "<table border=\"1\" class=\"dataframe\">\n",
       "  <thead>\n",
       "    <tr style=\"text-align: right;\">\n",
       "      <th></th>\n",
       "      <th>TCGA-3C-AAAU-01A-11R-A41B-07</th>\n",
       "      <th>TCGA-3C-AALI-01A-11R-A41B-07</th>\n",
       "      <th>TCGA-3C-AALJ-01A-31R-A41B-07</th>\n",
       "      <th>TCGA-3C-AALK-01A-11R-A41B-07</th>\n",
       "      <th>TCGA-4H-AAAK-01A-12R-A41B-07</th>\n",
       "      <th>TCGA-5L-AAT0-01A-12R-A41B-07</th>\n",
       "      <th>TCGA-5L-AAT1-01A-12R-A41B-07</th>\n",
       "      <th>TCGA-5T-A9QA-01A-11R-A41B-07</th>\n",
       "      <th>TCGA-A1-A0SB-01A-11R-A144-07</th>\n",
       "      <th>TCGA-A1-A0SD-01A-11R-A115-07</th>\n",
       "      <th>...</th>\n",
       "      <th>TCGA-UL-AAZ6-01A-11R-A41B-07</th>\n",
       "      <th>TCGA-UU-A93S-01A-21R-A41B-07</th>\n",
       "      <th>TCGA-V7-A7HQ-01A-11R-A33J-07</th>\n",
       "      <th>TCGA-W8-A86G-01A-21R-A36F-07</th>\n",
       "      <th>TCGA-WT-AB41-01A-11R-A41B-07</th>\n",
       "      <th>TCGA-WT-AB44-01A-11R-A41B-07</th>\n",
       "      <th>TCGA-XX-A899-01A-11R-A36F-07</th>\n",
       "      <th>TCGA-XX-A89A-01A-11R-A36F-07</th>\n",
       "      <th>TCGA-Z7-A8R5-01A-42R-A41B-07</th>\n",
       "      <th>TCGA-Z7-A8R6-01A-11R-A41B-07</th>\n",
       "    </tr>\n",
       "    <tr>\n",
       "      <th>index</th>\n",
       "      <th></th>\n",
       "      <th></th>\n",
       "      <th></th>\n",
       "      <th></th>\n",
       "      <th></th>\n",
       "      <th></th>\n",
       "      <th></th>\n",
       "      <th></th>\n",
       "      <th></th>\n",
       "      <th></th>\n",
       "      <th></th>\n",
       "      <th></th>\n",
       "      <th></th>\n",
       "      <th></th>\n",
       "      <th></th>\n",
       "      <th></th>\n",
       "      <th></th>\n",
       "      <th></th>\n",
       "      <th></th>\n",
       "      <th></th>\n",
       "      <th></th>\n",
       "    </tr>\n",
       "  </thead>\n",
       "  <tbody>\n",
       "    <tr>\n",
       "      <th>SCGB2A2</th>\n",
       "      <td>0.018651</td>\n",
       "      <td>0.017821</td>\n",
       "      <td>0.000000e+00</td>\n",
       "      <td>0.000098</td>\n",
       "      <td>8.711212e-03</td>\n",
       "      <td>0.000931</td>\n",
       "      <td>0.001138</td>\n",
       "      <td>0.023004</td>\n",
       "      <td>0.000087</td>\n",
       "      <td>0.000327</td>\n",
       "      <td>...</td>\n",
       "      <td>0.000003</td>\n",
       "      <td>1.151420e-02</td>\n",
       "      <td>0.000543</td>\n",
       "      <td>0.039330</td>\n",
       "      <td>0.000017</td>\n",
       "      <td>2.064860e-03</td>\n",
       "      <td>8.955940e-03</td>\n",
       "      <td>0.000056</td>\n",
       "      <td>0.006733</td>\n",
       "      <td>0.000052</td>\n",
       "    </tr>\n",
       "    <tr>\n",
       "      <th>CPB1</th>\n",
       "      <td>0.005511</td>\n",
       "      <td>0.000001</td>\n",
       "      <td>1.314417e-04</td>\n",
       "      <td>0.000007</td>\n",
       "      <td>3.895830e-07</td>\n",
       "      <td>0.000012</td>\n",
       "      <td>0.000002</td>\n",
       "      <td>0.000080</td>\n",
       "      <td>0.000006</td>\n",
       "      <td>0.029568</td>\n",
       "      <td>...</td>\n",
       "      <td>0.003362</td>\n",
       "      <td>3.250585e-08</td>\n",
       "      <td>0.000001</td>\n",
       "      <td>0.000001</td>\n",
       "      <td>0.000149</td>\n",
       "      <td>1.019297e-07</td>\n",
       "      <td>5.198667e-07</td>\n",
       "      <td>0.000005</td>\n",
       "      <td>0.000132</td>\n",
       "      <td>0.000031</td>\n",
       "    </tr>\n",
       "    <tr>\n",
       "      <th>MGP</th>\n",
       "      <td>0.000277</td>\n",
       "      <td>0.000122</td>\n",
       "      <td>1.175741e-03</td>\n",
       "      <td>0.006942</td>\n",
       "      <td>7.470099e-03</td>\n",
       "      <td>0.011383</td>\n",
       "      <td>0.003948</td>\n",
       "      <td>0.003825</td>\n",
       "      <td>0.009277</td>\n",
       "      <td>0.002608</td>\n",
       "      <td>...</td>\n",
       "      <td>0.004471</td>\n",
       "      <td>4.867425e-04</td>\n",
       "      <td>0.009946</td>\n",
       "      <td>0.031287</td>\n",
       "      <td>0.011183</td>\n",
       "      <td>8.281397e-04</td>\n",
       "      <td>4.027973e-03</td>\n",
       "      <td>0.002154</td>\n",
       "      <td>0.027691</td>\n",
       "      <td>0.004617</td>\n",
       "    </tr>\n",
       "    <tr>\n",
       "      <th>PIP</th>\n",
       "      <td>0.002019</td>\n",
       "      <td>0.000066</td>\n",
       "      <td>0.000000e+00</td>\n",
       "      <td>0.000578</td>\n",
       "      <td>4.289417e-05</td>\n",
       "      <td>0.000053</td>\n",
       "      <td>0.000791</td>\n",
       "      <td>0.000075</td>\n",
       "      <td>0.000010</td>\n",
       "      <td>0.000907</td>\n",
       "      <td>...</td>\n",
       "      <td>0.003444</td>\n",
       "      <td>5.174801e-04</td>\n",
       "      <td>0.000274</td>\n",
       "      <td>0.000164</td>\n",
       "      <td>0.001025</td>\n",
       "      <td>1.440216e-03</td>\n",
       "      <td>1.367014e-04</td>\n",
       "      <td>0.000142</td>\n",
       "      <td>0.000405</td>\n",
       "      <td>0.000012</td>\n",
       "    </tr>\n",
       "    <tr>\n",
       "      <th>SCGB1D2</th>\n",
       "      <td>0.001726</td>\n",
       "      <td>0.000445</td>\n",
       "      <td>2.567405e-07</td>\n",
       "      <td>0.000026</td>\n",
       "      <td>2.134205e-04</td>\n",
       "      <td>0.000179</td>\n",
       "      <td>0.000178</td>\n",
       "      <td>0.001637</td>\n",
       "      <td>0.000075</td>\n",
       "      <td>0.000073</td>\n",
       "      <td>...</td>\n",
       "      <td>0.000006</td>\n",
       "      <td>1.525383e-03</td>\n",
       "      <td>0.000169</td>\n",
       "      <td>0.003468</td>\n",
       "      <td>0.000002</td>\n",
       "      <td>2.788597e-04</td>\n",
       "      <td>4.877086e-03</td>\n",
       "      <td>0.000032</td>\n",
       "      <td>0.001310</td>\n",
       "      <td>0.000011</td>\n",
       "    </tr>\n",
       "  </tbody>\n",
       "</table>\n",
       "<p>5 rows × 1098 columns</p>\n",
       "</div>"
      ],
      "text/plain": [
       "         TCGA-3C-AAAU-01A-11R-A41B-07  TCGA-3C-AALI-01A-11R-A41B-07  \\\n",
       "index                                                                 \n",
       "SCGB2A2                      0.018651                      0.017821   \n",
       "CPB1                         0.005511                      0.000001   \n",
       "MGP                          0.000277                      0.000122   \n",
       "PIP                          0.002019                      0.000066   \n",
       "SCGB1D2                      0.001726                      0.000445   \n",
       "\n",
       "         TCGA-3C-AALJ-01A-31R-A41B-07  TCGA-3C-AALK-01A-11R-A41B-07  \\\n",
       "index                                                                 \n",
       "SCGB2A2                  0.000000e+00                      0.000098   \n",
       "CPB1                     1.314417e-04                      0.000007   \n",
       "MGP                      1.175741e-03                      0.006942   \n",
       "PIP                      0.000000e+00                      0.000578   \n",
       "SCGB1D2                  2.567405e-07                      0.000026   \n",
       "\n",
       "         TCGA-4H-AAAK-01A-12R-A41B-07  TCGA-5L-AAT0-01A-12R-A41B-07  \\\n",
       "index                                                                 \n",
       "SCGB2A2                  8.711212e-03                      0.000931   \n",
       "CPB1                     3.895830e-07                      0.000012   \n",
       "MGP                      7.470099e-03                      0.011383   \n",
       "PIP                      4.289417e-05                      0.000053   \n",
       "SCGB1D2                  2.134205e-04                      0.000179   \n",
       "\n",
       "         TCGA-5L-AAT1-01A-12R-A41B-07  TCGA-5T-A9QA-01A-11R-A41B-07  \\\n",
       "index                                                                 \n",
       "SCGB2A2                      0.001138                      0.023004   \n",
       "CPB1                         0.000002                      0.000080   \n",
       "MGP                          0.003948                      0.003825   \n",
       "PIP                          0.000791                      0.000075   \n",
       "SCGB1D2                      0.000178                      0.001637   \n",
       "\n",
       "         TCGA-A1-A0SB-01A-11R-A144-07  TCGA-A1-A0SD-01A-11R-A115-07  \\\n",
       "index                                                                 \n",
       "SCGB2A2                      0.000087                      0.000327   \n",
       "CPB1                         0.000006                      0.029568   \n",
       "MGP                          0.009277                      0.002608   \n",
       "PIP                          0.000010                      0.000907   \n",
       "SCGB1D2                      0.000075                      0.000073   \n",
       "\n",
       "                     ...               TCGA-UL-AAZ6-01A-11R-A41B-07  \\\n",
       "index                ...                                              \n",
       "SCGB2A2              ...                                   0.000003   \n",
       "CPB1                 ...                                   0.003362   \n",
       "MGP                  ...                                   0.004471   \n",
       "PIP                  ...                                   0.003444   \n",
       "SCGB1D2              ...                                   0.000006   \n",
       "\n",
       "         TCGA-UU-A93S-01A-21R-A41B-07  TCGA-V7-A7HQ-01A-11R-A33J-07  \\\n",
       "index                                                                 \n",
       "SCGB2A2                  1.151420e-02                      0.000543   \n",
       "CPB1                     3.250585e-08                      0.000001   \n",
       "MGP                      4.867425e-04                      0.009946   \n",
       "PIP                      5.174801e-04                      0.000274   \n",
       "SCGB1D2                  1.525383e-03                      0.000169   \n",
       "\n",
       "         TCGA-W8-A86G-01A-21R-A36F-07  TCGA-WT-AB41-01A-11R-A41B-07  \\\n",
       "index                                                                 \n",
       "SCGB2A2                      0.039330                      0.000017   \n",
       "CPB1                         0.000001                      0.000149   \n",
       "MGP                          0.031287                      0.011183   \n",
       "PIP                          0.000164                      0.001025   \n",
       "SCGB1D2                      0.003468                      0.000002   \n",
       "\n",
       "         TCGA-WT-AB44-01A-11R-A41B-07  TCGA-XX-A899-01A-11R-A36F-07  \\\n",
       "index                                                                 \n",
       "SCGB2A2                  2.064860e-03                  8.955940e-03   \n",
       "CPB1                     1.019297e-07                  5.198667e-07   \n",
       "MGP                      8.281397e-04                  4.027973e-03   \n",
       "PIP                      1.440216e-03                  1.367014e-04   \n",
       "SCGB1D2                  2.788597e-04                  4.877086e-03   \n",
       "\n",
       "         TCGA-XX-A89A-01A-11R-A36F-07  TCGA-Z7-A8R5-01A-42R-A41B-07  \\\n",
       "index                                                                 \n",
       "SCGB2A2                      0.000056                      0.006733   \n",
       "CPB1                         0.000005                      0.000132   \n",
       "MGP                          0.002154                      0.027691   \n",
       "PIP                          0.000142                      0.000405   \n",
       "SCGB1D2                      0.000032                      0.001310   \n",
       "\n",
       "         TCGA-Z7-A8R6-01A-11R-A41B-07  \n",
       "index                                  \n",
       "SCGB2A2                      0.000052  \n",
       "CPB1                         0.000031  \n",
       "MGP                          0.004617  \n",
       "PIP                          0.000012  \n",
       "SCGB1D2                      0.000011  \n",
       "\n",
       "[5 rows x 1098 columns]"
      ]
     },
     "execution_count": 36,
     "metadata": {},
     "output_type": "execute_result"
    }
   ],
   "source": [
    "brca_tumor_trans.head()"
   ]
  },
  {
   "cell_type": "markdown",
   "metadata": {},
   "source": [
    "Based on the PCA result, the 1098 tumor samples have been clearly clustered into 3 subsets. Then we wanted to find differential expressed genes. First, we combined cluster 2 and cluster 3 together and compared gene expression between those in cluster 1 and those in the pooled cluster (cluster 2 and cluster 3 together) via a two-sample t-test with Bonferroni correction. By doing so, we picked out the genes that expressed differentially in cluster 1 compared to those in cluster 2 and cluster 3. We repeated this procedure for the other 2 clusters. In the end, we selected genes included in the intersection of the three sets of differentially expressed genes, that is, we picked out the genes that are differentially expressed in all the 3 clusters of patients."
   ]
  },
  {
   "cell_type": "code",
   "execution_count": 37,
   "metadata": {
    "collapsed": false
   },
   "outputs": [],
   "source": [
    "brca_tumor_for_pca = brca_tumor_trans\n",
    "brca_tumor_for_pca.loc[len(brca_tumor_for_pca)+1] = brca_pca_trans[0]\n",
    "brca_tumor_for_pca.loc[len(brca_tumor_for_pca)+1] = brca_pca_trans[1]\n",
    "brca_tumor_for_pca.loc[len(brca_tumor_for_pca)+1] = brca_pca_trans[2]"
   ]
  },
  {
   "cell_type": "code",
   "execution_count": 38,
   "metadata": {
    "collapsed": false
   },
   "outputs": [],
   "source": [
    "index0 = [i for i,x in enumerate(cluster3_predict) if x==0]\n",
    "index12 = [i for i,x in enumerate(cluster3_predict) if x!=0]\n",
    "index1 = [i for i,x in enumerate(cluster3_predict) if x==1]\n",
    "index02 = [i for i,x in enumerate(cluster3_predict) if x!=1]\n",
    "index2 = [i for i,x in enumerate(cluster3_predict) if x==2]\n",
    "index01 = [i for i,x in enumerate(cluster3_predict) if x!=2]"
   ]
  },
  {
   "cell_type": "code",
   "execution_count": 39,
   "metadata": {
    "collapsed": false
   },
   "outputs": [],
   "source": [
    "group0 = brca_tumor.loc[brca_tumor.index[index0],:]\n",
    "group1 = brca_tumor.loc[brca_tumor.index[index1],:]\n",
    "group2 = brca_tumor.loc[brca_tumor.index[index2],:]"
   ]
  },
  {
   "cell_type": "code",
   "execution_count": 40,
   "metadata": {
    "collapsed": false
   },
   "outputs": [],
   "source": [
    "group12 = brca_tumor.loc[brca_tumor.index[index12],:]\n",
    "group02 = brca_tumor.loc[brca_tumor.index[index02],:]\n",
    "group01 = brca_tumor.loc[brca_tumor.index[index01],:]"
   ]
  },
  {
   "cell_type": "code",
   "execution_count": 41,
   "metadata": {
    "collapsed": true
   },
   "outputs": [],
   "source": [
    "z_0 = (brca_tumor.loc[brca_tumor.index[index0],:].mean(axis=0)-brca_tumor.loc[brca_tumor.index[index12],:].mean(axis=0))/np.sqrt(brca_tumor.loc[brca_tumor.index[index0],:].var(axis=0)/len(index0)+brca_tumor.loc[brca_tumor.index[index12],:].var(axis=0)/len(index12))\n",
    "z_1 = (brca_tumor.loc[brca_tumor.index[index1],:].mean(axis=0)-brca_tumor.loc[brca_tumor.index[index02],:].mean(axis=0))/np.sqrt(brca_tumor.loc[brca_tumor.index[index1],:].var(axis=0)/len(index1)+brca_tumor.loc[brca_tumor.index[index02],:].var(axis=0)/len(index02))\n",
    "z_2 = (brca_tumor.loc[brca_tumor.index[index2],:].mean(axis=0)-brca_tumor.loc[brca_tumor.index[index01],:].mean(axis=0))/np.sqrt(brca_tumor.loc[brca_tumor.index[index2],:].var(axis=0)/len(index2)+brca_tumor.loc[brca_tumor.index[index01],:].var(axis=0)/len(index01))"
   ]
  },
  {
   "cell_type": "code",
   "execution_count": 42,
   "metadata": {
    "collapsed": false
   },
   "outputs": [],
   "source": [
    "from scipy.stats.distributions import norm\n",
    "zst = -norm.ppf(0.025/len(z_0))"
   ]
  },
  {
   "cell_type": "code",
   "execution_count": 43,
   "metadata": {
    "collapsed": false
   },
   "outputs": [],
   "source": [
    "idex_0 = np.flatnonzero(np.abs(z_0) > zst)\n",
    "idex_1 = np.flatnonzero(np.abs(z_1) > zst)\n",
    "idex_2 = np.flatnonzero(np.abs(z_2) > zst)"
   ]
  },
  {
   "cell_type": "code",
   "execution_count": 44,
   "metadata": {
    "collapsed": false
   },
   "outputs": [],
   "source": [
    "from functools import reduce\n",
    "deg = reduce(np.intersect1d, (idex_0, idex_1, idex_2))"
   ]
  },
  {
   "cell_type": "code",
   "execution_count": 45,
   "metadata": {
    "collapsed": false
   },
   "outputs": [
    {
     "data": {
      "text/plain": [
       "Index([u'GAPDH', u'S100A7', u'RPL30', u'XBP1', u'KRT14', u'RPS20', u'RPS19',\n",
       "       u'CRYAB', u'PABPC1', u'RPS2', u'CSTB', u'KRT5', u'RPS27A', u'ENO1',\n",
       "       u'KRT17', u'TAGLN2', u'MMP7', u'PFN1', u'MT1X', u'RPS7', u'SOD2',\n",
       "       u'LAPTM4B', u'LOC96610', u'KRT16', u'YBX1', u'MYBPC1', u'STMN1',\n",
       "       u'FLNA', u'SFRP1', u'UQCRH', u'FBL', u'HDGF', u'SLC25A5', u'NUCB2',\n",
       "       u'MIA', u'KIAA1324', u'IL32', u'LY6D', u'TUBA1C', u'SH3BGRL3',\n",
       "       u'MRPL51', u'WARS', u'FUS', u'AKR1C2', u'PHB2', u'COTL1', u'CSDA',\n",
       "       u'MSN', u'CDK4', u'PDCD5'],\n",
       "      dtype='object', name=u'index')"
      ]
     },
     "execution_count": 45,
     "metadata": {},
     "output_type": "execute_result"
    }
   ],
   "source": [
    "z_0[deg].index"
   ]
  },
  {
   "cell_type": "code",
   "execution_count": 46,
   "metadata": {
    "collapsed": false
   },
   "outputs": [
    {
     "data": {
      "text/html": [
       "<div>\n",
       "<table border=\"1\" class=\"dataframe\">\n",
       "  <thead>\n",
       "    <tr style=\"text-align: right;\">\n",
       "      <th></th>\n",
       "      <th>TCGA-3C-AAAU-01A-11R-A41B-07</th>\n",
       "      <th>TCGA-3C-AALI-01A-11R-A41B-07</th>\n",
       "      <th>TCGA-3C-AALJ-01A-31R-A41B-07</th>\n",
       "      <th>TCGA-3C-AALK-01A-11R-A41B-07</th>\n",
       "      <th>TCGA-4H-AAAK-01A-12R-A41B-07</th>\n",
       "      <th>TCGA-5L-AAT0-01A-12R-A41B-07</th>\n",
       "      <th>TCGA-5L-AAT1-01A-12R-A41B-07</th>\n",
       "      <th>TCGA-5T-A9QA-01A-11R-A41B-07</th>\n",
       "      <th>TCGA-A1-A0SB-01A-11R-A144-07</th>\n",
       "      <th>TCGA-A1-A0SD-01A-11R-A115-07</th>\n",
       "      <th>...</th>\n",
       "      <th>TCGA-UL-AAZ6-01A-11R-A41B-07</th>\n",
       "      <th>TCGA-UU-A93S-01A-21R-A41B-07</th>\n",
       "      <th>TCGA-V7-A7HQ-01A-11R-A33J-07</th>\n",
       "      <th>TCGA-W8-A86G-01A-21R-A36F-07</th>\n",
       "      <th>TCGA-WT-AB41-01A-11R-A41B-07</th>\n",
       "      <th>TCGA-WT-AB44-01A-11R-A41B-07</th>\n",
       "      <th>TCGA-XX-A899-01A-11R-A36F-07</th>\n",
       "      <th>TCGA-XX-A89A-01A-11R-A36F-07</th>\n",
       "      <th>TCGA-Z7-A8R5-01A-42R-A41B-07</th>\n",
       "      <th>TCGA-Z7-A8R6-01A-11R-A41B-07</th>\n",
       "    </tr>\n",
       "    <tr>\n",
       "      <th>index</th>\n",
       "      <th></th>\n",
       "      <th></th>\n",
       "      <th></th>\n",
       "      <th></th>\n",
       "      <th></th>\n",
       "      <th></th>\n",
       "      <th></th>\n",
       "      <th></th>\n",
       "      <th></th>\n",
       "      <th></th>\n",
       "      <th></th>\n",
       "      <th></th>\n",
       "      <th></th>\n",
       "      <th></th>\n",
       "      <th></th>\n",
       "      <th></th>\n",
       "      <th></th>\n",
       "      <th></th>\n",
       "      <th></th>\n",
       "      <th></th>\n",
       "      <th></th>\n",
       "    </tr>\n",
       "  </thead>\n",
       "  <tbody>\n",
       "    <tr>\n",
       "      <th>HN1</th>\n",
       "      <td>0.000115</td>\n",
       "      <td>0.000178</td>\n",
       "      <td>0.000421</td>\n",
       "      <td>0.000313</td>\n",
       "      <td>0.000076</td>\n",
       "      <td>0.000068</td>\n",
       "      <td>0.000082</td>\n",
       "      <td>0.000119</td>\n",
       "      <td>0.000044</td>\n",
       "      <td>0.000074</td>\n",
       "      <td>...</td>\n",
       "      <td>0.000199</td>\n",
       "      <td>0.000107</td>\n",
       "      <td>0.000134</td>\n",
       "      <td>0.000043</td>\n",
       "      <td>0.000069</td>\n",
       "      <td>0.000121</td>\n",
       "      <td>0.000074</td>\n",
       "      <td>0.000050</td>\n",
       "      <td>0.000073</td>\n",
       "      <td>0.000223</td>\n",
       "    </tr>\n",
       "    <tr>\n",
       "      <th>1001</th>\n",
       "      <td>1.000000</td>\n",
       "      <td>1.000000</td>\n",
       "      <td>1.000000</td>\n",
       "      <td>1.000000</td>\n",
       "      <td>1.000000</td>\n",
       "      <td>1.000000</td>\n",
       "      <td>1.000000</td>\n",
       "      <td>1.000000</td>\n",
       "      <td>1.000000</td>\n",
       "      <td>1.000000</td>\n",
       "      <td>...</td>\n",
       "      <td>1.000000</td>\n",
       "      <td>1.000000</td>\n",
       "      <td>1.000000</td>\n",
       "      <td>0.000000</td>\n",
       "      <td>1.000000</td>\n",
       "      <td>1.000000</td>\n",
       "      <td>1.000000</td>\n",
       "      <td>1.000000</td>\n",
       "      <td>1.000000</td>\n",
       "      <td>1.000000</td>\n",
       "    </tr>\n",
       "    <tr>\n",
       "      <th>1002</th>\n",
       "      <td>-0.011782</td>\n",
       "      <td>-0.010709</td>\n",
       "      <td>0.006583</td>\n",
       "      <td>0.005661</td>\n",
       "      <td>-0.001940</td>\n",
       "      <td>0.005196</td>\n",
       "      <td>0.005378</td>\n",
       "      <td>-0.016001</td>\n",
       "      <td>0.006640</td>\n",
       "      <td>0.006164</td>\n",
       "      <td>...</td>\n",
       "      <td>0.004967</td>\n",
       "      <td>-0.005138</td>\n",
       "      <td>0.005958</td>\n",
       "      <td>-0.032182</td>\n",
       "      <td>0.006834</td>\n",
       "      <td>0.004148</td>\n",
       "      <td>-0.003737</td>\n",
       "      <td>0.005729</td>\n",
       "      <td>-0.000505</td>\n",
       "      <td>0.006412</td>\n",
       "    </tr>\n",
       "    <tr>\n",
       "      <th>1003</th>\n",
       "      <td>-0.006682</td>\n",
       "      <td>0.002052</td>\n",
       "      <td>0.001762</td>\n",
       "      <td>0.002561</td>\n",
       "      <td>0.002889</td>\n",
       "      <td>0.003358</td>\n",
       "      <td>0.003499</td>\n",
       "      <td>-0.000533</td>\n",
       "      <td>0.004227</td>\n",
       "      <td>-0.028300</td>\n",
       "      <td>...</td>\n",
       "      <td>-0.000483</td>\n",
       "      <td>0.003607</td>\n",
       "      <td>0.002514</td>\n",
       "      <td>0.003531</td>\n",
       "      <td>0.003603</td>\n",
       "      <td>0.003274</td>\n",
       "      <td>0.002789</td>\n",
       "      <td>0.003496</td>\n",
       "      <td>0.005308</td>\n",
       "      <td>0.002225</td>\n",
       "    </tr>\n",
       "    <tr>\n",
       "      <th>1004</th>\n",
       "      <td>0.006220</td>\n",
       "      <td>0.008703</td>\n",
       "      <td>0.006487</td>\n",
       "      <td>0.000396</td>\n",
       "      <td>0.000459</td>\n",
       "      <td>-0.003752</td>\n",
       "      <td>0.003880</td>\n",
       "      <td>0.004368</td>\n",
       "      <td>-0.003639</td>\n",
       "      <td>0.003638</td>\n",
       "      <td>...</td>\n",
       "      <td>0.004877</td>\n",
       "      <td>0.005719</td>\n",
       "      <td>-0.002790</td>\n",
       "      <td>-0.021599</td>\n",
       "      <td>-0.003245</td>\n",
       "      <td>0.004435</td>\n",
       "      <td>0.003374</td>\n",
       "      <td>0.003923</td>\n",
       "      <td>-0.019132</td>\n",
       "      <td>0.002548</td>\n",
       "    </tr>\n",
       "  </tbody>\n",
       "</table>\n",
       "<p>5 rows × 1098 columns</p>\n",
       "</div>"
      ],
      "text/plain": [
       "       TCGA-3C-AAAU-01A-11R-A41B-07  TCGA-3C-AALI-01A-11R-A41B-07  \\\n",
       "index                                                               \n",
       "HN1                        0.000115                      0.000178   \n",
       "1001                       1.000000                      1.000000   \n",
       "1002                      -0.011782                     -0.010709   \n",
       "1003                      -0.006682                      0.002052   \n",
       "1004                       0.006220                      0.008703   \n",
       "\n",
       "       TCGA-3C-AALJ-01A-31R-A41B-07  TCGA-3C-AALK-01A-11R-A41B-07  \\\n",
       "index                                                               \n",
       "HN1                        0.000421                      0.000313   \n",
       "1001                       1.000000                      1.000000   \n",
       "1002                       0.006583                      0.005661   \n",
       "1003                       0.001762                      0.002561   \n",
       "1004                       0.006487                      0.000396   \n",
       "\n",
       "       TCGA-4H-AAAK-01A-12R-A41B-07  TCGA-5L-AAT0-01A-12R-A41B-07  \\\n",
       "index                                                               \n",
       "HN1                        0.000076                      0.000068   \n",
       "1001                       1.000000                      1.000000   \n",
       "1002                      -0.001940                      0.005196   \n",
       "1003                       0.002889                      0.003358   \n",
       "1004                       0.000459                     -0.003752   \n",
       "\n",
       "       TCGA-5L-AAT1-01A-12R-A41B-07  TCGA-5T-A9QA-01A-11R-A41B-07  \\\n",
       "index                                                               \n",
       "HN1                        0.000082                      0.000119   \n",
       "1001                       1.000000                      1.000000   \n",
       "1002                       0.005378                     -0.016001   \n",
       "1003                       0.003499                     -0.000533   \n",
       "1004                       0.003880                      0.004368   \n",
       "\n",
       "       TCGA-A1-A0SB-01A-11R-A144-07  TCGA-A1-A0SD-01A-11R-A115-07  \\\n",
       "index                                                               \n",
       "HN1                        0.000044                      0.000074   \n",
       "1001                       1.000000                      1.000000   \n",
       "1002                       0.006640                      0.006164   \n",
       "1003                       0.004227                     -0.028300   \n",
       "1004                      -0.003639                      0.003638   \n",
       "\n",
       "                   ...               TCGA-UL-AAZ6-01A-11R-A41B-07  \\\n",
       "index              ...                                              \n",
       "HN1                ...                                   0.000199   \n",
       "1001               ...                                   1.000000   \n",
       "1002               ...                                   0.004967   \n",
       "1003               ...                                  -0.000483   \n",
       "1004               ...                                   0.004877   \n",
       "\n",
       "       TCGA-UU-A93S-01A-21R-A41B-07  TCGA-V7-A7HQ-01A-11R-A33J-07  \\\n",
       "index                                                               \n",
       "HN1                        0.000107                      0.000134   \n",
       "1001                       1.000000                      1.000000   \n",
       "1002                      -0.005138                      0.005958   \n",
       "1003                       0.003607                      0.002514   \n",
       "1004                       0.005719                     -0.002790   \n",
       "\n",
       "       TCGA-W8-A86G-01A-21R-A36F-07  TCGA-WT-AB41-01A-11R-A41B-07  \\\n",
       "index                                                               \n",
       "HN1                        0.000043                      0.000069   \n",
       "1001                       0.000000                      1.000000   \n",
       "1002                      -0.032182                      0.006834   \n",
       "1003                       0.003531                      0.003603   \n",
       "1004                      -0.021599                     -0.003245   \n",
       "\n",
       "       TCGA-WT-AB44-01A-11R-A41B-07  TCGA-XX-A899-01A-11R-A36F-07  \\\n",
       "index                                                               \n",
       "HN1                        0.000121                      0.000074   \n",
       "1001                       1.000000                      1.000000   \n",
       "1002                       0.004148                     -0.003737   \n",
       "1003                       0.003274                      0.002789   \n",
       "1004                       0.004435                      0.003374   \n",
       "\n",
       "       TCGA-XX-A89A-01A-11R-A36F-07  TCGA-Z7-A8R5-01A-42R-A41B-07  \\\n",
       "index                                                               \n",
       "HN1                        0.000050                      0.000073   \n",
       "1001                       1.000000                      1.000000   \n",
       "1002                       0.005729                     -0.000505   \n",
       "1003                       0.003496                      0.005308   \n",
       "1004                       0.003923                     -0.019132   \n",
       "\n",
       "       TCGA-Z7-A8R6-01A-11R-A41B-07  \n",
       "index                                \n",
       "HN1                        0.000223  \n",
       "1001                       1.000000  \n",
       "1002                       0.006412  \n",
       "1003                       0.002225  \n",
       "1004                       0.002548  \n",
       "\n",
       "[5 rows x 1098 columns]"
      ]
     },
     "execution_count": 46,
     "metadata": {},
     "output_type": "execute_result"
    }
   ],
   "source": [
    "brca_tumor_for_pca.tail()"
   ]
  },
  {
   "cell_type": "markdown",
   "metadata": {},
   "source": [
    "## Fitting Regressions\n",
    "The logistic regression is fitted to model and predict the probability of a subject with breast cancer survived past 1194 (the mean survival time) days adjusting for possible confounders such as the clusters we found above and some genes that are proved in the literatures to be significant predictors of the development of breast cancer. \n",
    "\n",
    "We also fitted a Cox Proportional Hazard model to look for important predictors in predicting the hazard ratio over time. Our assumption is that those predictors which are important in the logistic regression above will also be significant in the Cox PH model. "
   ]
  },
  {
   "cell_type": "markdown",
   "metadata": {},
   "source": [
    "### Data Preparation"
   ]
  },
  {
   "cell_type": "code",
   "execution_count": 47,
   "metadata": {
    "collapsed": false
   },
   "outputs": [],
   "source": [
    "#import clinical data\n",
    "#os.chdir(\"/Users/suqinhou/Dropbox/Courses/Harvard/Stat 121/Data Science Final Project/Clinical data\")\n",
    "#os.chdir(\"/Users/W.Jiang/Dropbox/Data Science Final Project/Clinical data\")\n",
    "clinical = pd.read_csv('Clinical data/clinical_data.csv', sep=',')"
   ]
  },
  {
   "cell_type": "markdown",
   "metadata": {},
   "source": [
    "We chose 8 possible confounders to be fitted in the logistic regression model and the Cox PH model. They are age, the first Principle Component, PIK3CA (the proved driver gene of breast cancer), TP53 (the gene which being proved to have the most mutations in the genome), metastasis (whether cancer spreaded out from breast to other organs), ENO1 (the most differential expressed gene in tumor samples) and new tumor (whether there is new tumor developed after initial treatment). Here we assume all the missing data are missing at random, hence we dropped all the missing data and fitted the model under complete case analysis."
   ]
  },
  {
   "cell_type": "code",
   "execution_count": 48,
   "metadata": {
    "collapsed": false
   },
   "outputs": [],
   "source": [
    "a = clinical[['sampleID','_TIME_TO_EVENT','vital_status','Age_at_Initial_Pathologic_Diagnosis_nature2012',\"HER2_Final_Status_nature2012\",\"Metastasis_Coded_nature2012\",'new_tumor_event_after_initial_treatment']].dropna()"
   ]
  },
  {
   "cell_type": "code",
   "execution_count": 49,
   "metadata": {
    "collapsed": false
   },
   "outputs": [
    {
     "data": {
      "text/html": [
       "<div>\n",
       "<table border=\"1\" class=\"dataframe\">\n",
       "  <thead>\n",
       "    <tr style=\"text-align: right;\">\n",
       "      <th></th>\n",
       "      <th>sampleID</th>\n",
       "      <th>_TIME_TO_EVENT</th>\n",
       "      <th>vital_status</th>\n",
       "      <th>Age_at_Initial_Pathologic_Diagnosis_nature2012</th>\n",
       "      <th>HER2_Final_Status_nature2012</th>\n",
       "      <th>Metastasis_Coded_nature2012</th>\n",
       "      <th>new_tumor_event_after_initial_treatment</th>\n",
       "    </tr>\n",
       "  </thead>\n",
       "  <tbody>\n",
       "    <tr>\n",
       "      <th>33</th>\n",
       "      <td>TCGA-A2-A0CL-01</td>\n",
       "      <td>1964</td>\n",
       "      <td>LIVING</td>\n",
       "      <td>37</td>\n",
       "      <td>Negative</td>\n",
       "      <td>Negative</td>\n",
       "      <td>NO</td>\n",
       "    </tr>\n",
       "    <tr>\n",
       "      <th>36</th>\n",
       "      <td>TCGA-A2-A0CP-01</td>\n",
       "      <td>2813</td>\n",
       "      <td>LIVING</td>\n",
       "      <td>60</td>\n",
       "      <td>Negative</td>\n",
       "      <td>Negative</td>\n",
       "      <td>NO</td>\n",
       "    </tr>\n",
       "    <tr>\n",
       "      <th>37</th>\n",
       "      <td>TCGA-A2-A0CQ-01</td>\n",
       "      <td>2695</td>\n",
       "      <td>LIVING</td>\n",
       "      <td>62</td>\n",
       "      <td>Negative</td>\n",
       "      <td>Negative</td>\n",
       "      <td>NO</td>\n",
       "    </tr>\n",
       "    <tr>\n",
       "      <th>39</th>\n",
       "      <td>TCGA-A2-A0CS-01</td>\n",
       "      <td>2298</td>\n",
       "      <td>LIVING</td>\n",
       "      <td>73</td>\n",
       "      <td>Negative</td>\n",
       "      <td>Positive</td>\n",
       "      <td>NO</td>\n",
       "    </tr>\n",
       "    <tr>\n",
       "      <th>40</th>\n",
       "      <td>TCGA-A2-A0CT-01</td>\n",
       "      <td>2289</td>\n",
       "      <td>LIVING</td>\n",
       "      <td>71</td>\n",
       "      <td>Negative</td>\n",
       "      <td>Negative</td>\n",
       "      <td>NO</td>\n",
       "    </tr>\n",
       "  </tbody>\n",
       "</table>\n",
       "</div>"
      ],
      "text/plain": [
       "           sampleID  _TIME_TO_EVENT vital_status  \\\n",
       "33  TCGA-A2-A0CL-01            1964       LIVING   \n",
       "36  TCGA-A2-A0CP-01            2813       LIVING   \n",
       "37  TCGA-A2-A0CQ-01            2695       LIVING   \n",
       "39  TCGA-A2-A0CS-01            2298       LIVING   \n",
       "40  TCGA-A2-A0CT-01            2289       LIVING   \n",
       "\n",
       "    Age_at_Initial_Pathologic_Diagnosis_nature2012  \\\n",
       "33                                              37   \n",
       "36                                              60   \n",
       "37                                              62   \n",
       "39                                              73   \n",
       "40                                              71   \n",
       "\n",
       "   HER2_Final_Status_nature2012 Metastasis_Coded_nature2012  \\\n",
       "33                     Negative                    Negative   \n",
       "36                     Negative                    Negative   \n",
       "37                     Negative                    Negative   \n",
       "39                     Negative                    Positive   \n",
       "40                     Negative                    Negative   \n",
       "\n",
       "   new_tumor_event_after_initial_treatment  \n",
       "33                                      NO  \n",
       "36                                      NO  \n",
       "37                                      NO  \n",
       "39                                      NO  \n",
       "40                                      NO  "
      ]
     },
     "execution_count": 49,
     "metadata": {},
     "output_type": "execute_result"
    }
   ],
   "source": [
    "a.head()"
   ]
  },
  {
   "cell_type": "code",
   "execution_count": 50,
   "metadata": {
    "collapsed": true
   },
   "outputs": [],
   "source": [
    "a.rename(columns={'Age_at_Initial_Pathologic_Diagnosis_nature2012':'age', 'new_tumor_event_after_initial_treatment':\"new_tumor\", 'Metastasis_Coded_nature2012': 'metastasis', \"HER2_Final_Status_nature2012\": \"HER2\"}, inplace=True)"
   ]
  },
  {
   "cell_type": "markdown",
   "metadata": {},
   "source": [
    "### Data Visualization"
   ]
  },
  {
   "cell_type": "markdown",
   "metadata": {},
   "source": [
    "Below is the histogram of age among samples who lived past the median survival and those who deceased before the median survival time."
   ]
  },
  {
   "cell_type": "code",
   "execution_count": 51,
   "metadata": {
    "collapsed": true
   },
   "outputs": [],
   "source": [
    "#Adding indicator variable to the data of whether a patient survived past the mean survival time.\n",
    "logit_outcome = []\n",
    "cutoff = np.mean(a._TIME_TO_EVENT)\n",
    "for i in a['_TIME_TO_EVENT']:\n",
    "    if i >= cutoff:\n",
    "        logit_outcome.append(0) # alive past the mean survival time\n",
    "    else:\n",
    "        logit_outcome.append(1) # deceased before the mean survival time\n",
    "\n",
    "a['logit_y'] = logit_outcome"
   ]
  },
  {
   "cell_type": "code",
   "execution_count": 52,
   "metadata": {
    "collapsed": false
   },
   "outputs": [
    {
     "data": {
      "image/png": "[encoded data removed]",
      "text/plain": [
       "<matplotlib.figure.Figure at 0x10aac7190>"
      ]
     },
     "metadata": {},
     "output_type": "display_data"
    }
   ],
   "source": [
    "#histograms of age\n",
    "plt.hist(a[a.logit_y == 1]['age'].tolist(), color='r',alpha=0.7)\n",
    "plt.hist(a[a.logit_y == 0]['age'].tolist(), alpha=0.5)\n",
    "plt.title('Histograms of Age')\n",
    "plt.xlabel('Age')\n",
    "plt.ylabel('Frequency')\n",
    "plt.legend(['survived','dead'])\n",
    "plt.show()"
   ]
  },
  {
   "cell_type": "markdown",
   "metadata": {},
   "source": [
    "Although the number of people survived after the mean survival time is much greater than the number of poeple deceased before the mean survival time, the distributions of age in two groups are approximately distributed with the same mean around 58, and the variances are very similar as well."
   ]
  },
  {
   "cell_type": "markdown",
   "metadata": {},
   "source": [
    "Below are histograms showing the number of new tumor events happends in both groups."
   ]
  },
  {
   "cell_type": "code",
   "execution_count": 53,
   "metadata": {
    "collapsed": false
   },
   "outputs": [
    {
     "data": {
      "image/png": "[encoded data removed]",
      "text/plain": [
       "<matplotlib.figure.Figure at 0x104686590>"
      ]
     },
     "metadata": {},
     "output_type": "display_data"
    }
   ],
   "source": [
    "new_tumor = a[a.logit_y == 1]['new_tumor']\n",
    "new_tumor2 = a[a.logit_y == 0]['new_tumor']\n",
    "new_tumor_number =[]\n",
    "new_tumor2_number = []\n",
    "for i in new_tumor:\n",
    "    if i == 'NO':\n",
    "        new_tumor_number.append(0)\n",
    "    else:\n",
    "        new_tumor_number.append(1)\n",
    "        \n",
    "for i in new_tumor2:\n",
    "    if i == 'NO':\n",
    "        new_tumor2_number.append(0)\n",
    "    else:\n",
    "        new_tumor2_number.append(1)\n",
    "        \n",
    "plt.hist(new_tumor_number, color='r')\n",
    "plt.hist(new_tumor2_number, alpha=0.4, color='black')\n",
    "plt.xlabel('New_tumor')\n",
    "plt.ylabel('Counts')\n",
    "plt.legend(['survived','dead'])\n",
    "plt.show()"
   ]
  },
  {
   "cell_type": "markdown",
   "metadata": {},
   "source": [
    "Both group have around 50 events, but for survived group, the count of samples with no new tumor event after initial treatment is almost 2 times that in the group of samples dead before 1194 days."
   ]
  },
  {
   "cell_type": "markdown",
   "metadata": {},
   "source": [
    "Below are histograms showing the number of samples having metastasis and the number of sample didn't have metastasis happends in both groups."
   ]
  },
  {
   "cell_type": "code",
   "execution_count": 54,
   "metadata": {
    "collapsed": false
   },
   "outputs": [
    {
     "data": {
      "image/png": "[encoded data removed]",
      "text/plain": [
       "<matplotlib.figure.Figure at 0x10aad5550>"
      ]
     },
     "metadata": {},
     "output_type": "display_data"
    }
   ],
   "source": [
    "new_tumor = a[a.logit_y == 1]['metastasis']\n",
    "new_tumor2 = a[a.logit_y == 0]['metastasis']\n",
    "new_tumor_number =[]\n",
    "new_tumor2_number = []\n",
    "for i in new_tumor:\n",
    "    if i == 'Negative':\n",
    "        new_tumor_number.append(0)\n",
    "    else:\n",
    "        new_tumor_number.append(1)\n",
    "        \n",
    "for i in new_tumor2:\n",
    "    if i == 'Negative':\n",
    "        new_tumor2_number.append(0)\n",
    "    else:\n",
    "        new_tumor2_number.append(1)\n",
    "\n",
    "plt.hist(new_tumor_number, color='r')\n",
    "plt.hist(new_tumor2_number, alpha=0.4, color='black')\n",
    "plt.xlabel('Metastasis')\n",
    "plt.ylabel('Counts')\n",
    "plt.legend(['survived','dead'])\n",
    "plt.show()"
   ]
  },
  {
   "cell_type": "markdown",
   "metadata": {},
   "source": [
    "In both survived and dead groups there are nearly no samples with metastasis after the initial treatment, hence we decided not to add this variable into the model."
   ]
  },
  {
   "cell_type": "markdown",
   "metadata": {},
   "source": [
    "We then appended the cluster indicators calculated from K-means that each patient in the tumor samples belongs to to the clinical data. cluster1 = 1 represents that the patient belongs to the 1st cluster; cluster2 = 1 represents that the patient belongs to the 2nd cluster; and cluster3 = 1 represents that the patient belongs to the 3rd cluster."
   ]
  },
  {
   "cell_type": "code",
   "execution_count": 55,
   "metadata": {
    "collapsed": false
   },
   "outputs": [],
   "source": [
    "brca_trans = brca.transpose()"
   ]
  },
  {
   "cell_type": "code",
   "execution_count": 56,
   "metadata": {
    "collapsed": false
   },
   "outputs": [],
   "source": [
    "brca_tumor_for_pca_trans = brca_tumor_for_pca.transpose()"
   ]
  },
  {
   "cell_type": "code",
   "execution_count": 57,
   "metadata": {
    "collapsed": false
   },
   "outputs": [],
   "source": [
    "#append cluster indicator and pca1-3 to clinical data\n",
    "b =[]\n",
    "c = brca_tumor_for_pca_trans.index.tolist()\n",
    "d = []\n",
    "e = []\n",
    "f = []\n",
    "g = []\n",
    "h = []\n",
    "I = []\n",
    "J = []\n",
    "k = []\n",
    "\n",
    "\n",
    "for i in c:\n",
    "    i = i[:15]\n",
    "    d.append(i)\n",
    "\n",
    "brca_tumor_for_pca_trans['sampleID_sub'] = d\n",
    "\n",
    "for i in a['sampleID']:\n",
    "    if i in brca_tumor_for_pca_trans['sampleID_sub'].tolist():\n",
    "        number = brca_tumor_for_pca_trans['sampleID_sub'].tolist().index(i)\n",
    "        b.append(brca_tumor_for_pca_trans[1001][number]) # cluster indicator\n",
    "        e.append(brca_tumor_for_pca_trans[1002][number]) # pca1\n",
    "        f.append(brca_tumor_for_pca_trans[1003][number]) # pca2\n",
    "        g.append(brca_tumor_for_pca_trans[1004][number]) # pca3\n",
    "        h.append(brca_trans['PIK3CA'][number])\n",
    "        I.append(brca_trans['ENO1'][number])\n",
    "        J.append(brca_trans['TP53'][number])\n",
    "        \n",
    "    else:\n",
    "        b.append('na')\n",
    "        e.append('na')\n",
    "        f.append('na')\n",
    "        g.append('na')\n",
    "        h.append('na')\n",
    "        I.append('na')\n",
    "        J.append('na')\n",
    "        \n",
    "a['cluster_indicator'] = b\n",
    "a['pca1']=e\n",
    "a['pca2']=f\n",
    "a['pca3']=g\n",
    "a['PIK3CA']=h\n",
    "a['ENO1']=I\n",
    "a['TP53']=J\n",
    "\n",
    "# convert event_observed to boolean\n",
    "a['event'] = a['vital_status'] == 'DECEASED'\n",
    "\n",
    "cluster1 = []\n",
    "cluster2 = []\n",
    "cluster3 = []\n",
    "for i in a['cluster_indicator']:\n",
    "    if i == 0:\n",
    "        cluster1.append(1)\n",
    "    else:\n",
    "        cluster1.append(0)\n",
    "for i in a['cluster_indicator']:\n",
    "    if i == 1:\n",
    "        cluster2.append(1)\n",
    "    else:\n",
    "        cluster2.append(0)\n",
    "for i in a['cluster_indicator']:\n",
    "    if i == 2:\n",
    "        cluster3.append(1)\n",
    "    else:\n",
    "        cluster3.append(0)\n",
    "a['cluster1'] = cluster1\n",
    "a['cluster2'] = cluster2\n",
    "a['cluster3'] = cluster3"
   ]
  },
  {
   "cell_type": "markdown",
   "metadata": {},
   "source": [
    "### 1. Logistic Regression"
   ]
  },
  {
   "cell_type": "markdown",
   "metadata": {},
   "source": [
    "In the logistic regression the outcome is defined as the either dead before the mean survival time of the our sample (1), or alive past the mean survival time (0)."
   ]
  },
  {
   "cell_type": "code",
   "execution_count": 58,
   "metadata": {
    "collapsed": false
   },
   "outputs": [],
   "source": [
    "#Adding indicator variable to the data of whether a patient survived past the mean survival time.\n",
    "logit_outcome = []\n",
    "cutoff = np.mean(a._TIME_TO_EVENT)\n",
    "for i in a['_TIME_TO_EVENT']:\n",
    "    if i >= cutoff:\n",
    "        logit_outcome.append(0) # alive past the mean survival time\n",
    "    else:\n",
    "        logit_outcome.append(1) # deceased before the mean survival time\n",
    "\n",
    "a['logit_y'] = logit_outcome"
   ]
  },
  {
   "cell_type": "code",
   "execution_count": 59,
   "metadata": {
    "collapsed": false
   },
   "outputs": [],
   "source": [
    "# transform the variables into correct data types\n",
    "a = a[a.pca1 != 'na']\n",
    "a['pca1_float'] = a.pca1.values.astype(np.float64)\n",
    "a['TP53_float'] = a.TP53.values.astype(np.float64)\n",
    "a['PIK3CA_float'] = a.PIK3CA.values.astype(np.float64)\n",
    "a['cluster_float'] = a.cluster_indicator.values.astype(np.float64)\n",
    "a['ENO1_float'] = a.ENO1.values.astype(np.float64)"
   ]
  },
  {
   "cell_type": "code",
   "execution_count": 60,
   "metadata": {
    "collapsed": true
   },
   "outputs": [],
   "source": [
    "# create dataframes with an intercept column and covariate columns\n",
    "from patsy import dmatrices\n",
    "y, X = dmatrices('logit_y ~ age + metastasis + new_tumor + cluster_float + pca1_float + PIK3CA_float + ENO1_float + TP53_float',\n",
    "                  a, return_type=\"dataframe\")"
   ]
  },
  {
   "cell_type": "code",
   "execution_count": 61,
   "metadata": {
    "collapsed": false
   },
   "outputs": [
    {
     "name": "stdout",
     "output_type": "stream",
     "text": [
      "Warning: Maximum number of iterations has been exceeded.\n",
      "         Current function value: 7.858728\n",
      "         Iterations: 35\n"
     ]
    },
    {
     "name": "stderr",
     "output_type": "stream",
     "text": [
      "/Users/suqinhou/anaconda/lib/python2.7/site-packages/sklearn/utils/validation.py:449: DataConversionWarning: A column-vector y was passed when a 1d array was expected. Please change the shape of y to (n_samples, ), for example using ravel().\n",
      "  y = column_or_1d(y, warn=True)\n",
      "/Users/suqinhou/anaconda/lib/python2.7/site-packages/statsmodels/base/model.py:466: ConvergenceWarning: Maximum Likelihood optimization failed to converge. Check mle_retvals\n",
      "  \"Check mle_retvals\", ConvergenceWarning)\n"
     ]
    },
    {
     "data": {
      "text/html": [
       "<table class=\"simpletable\">\n",
       "<caption>Logit Regression Results</caption>\n",
       "<tr>\n",
       "  <th>Dep. Variable:</th>      <td>logit_y</td>     <th>  No. Observations:  </th>  <td>   519</td> \n",
       "</tr>\n",
       "<tr>\n",
       "  <th>Model:</th>               <td>Logit</td>      <th>  Df Residuals:      </th>  <td>   510</td> \n",
       "</tr>\n",
       "<tr>\n",
       "  <th>Method:</th>               <td>MLE</td>       <th>  Df Model:          </th>  <td>     8</td> \n",
       "</tr>\n",
       "<tr>\n",
       "  <th>Date:</th>          <td>Thu, 10 Dec 2015</td> <th>  Pseudo R-squ.:     </th>  <td>-11.51</td> \n",
       "</tr>\n",
       "<tr>\n",
       "  <th>Time:</th>              <td>22:47:55</td>     <th>  Log-Likelihood:    </th> <td> -4078.7</td>\n",
       "</tr>\n",
       "<tr>\n",
       "  <th>converged:</th>           <td>False</td>      <th>  LL-Null:           </th> <td> -326.03</td>\n",
       "</tr>\n",
       "<tr>\n",
       "  <th> </th>                      <td> </td>        <th>  LLR p-value:       </th>  <td> 1.000</td> \n",
       "</tr>\n",
       "</table>\n",
       "<table class=\"simpletable\">\n",
       "<tr>\n",
       "             <td></td>               <th>coef</th>     <th>std err</th>      <th>z</th>      <th>P>|z|</th> <th>[95.0% Conf. Int.]</th> \n",
       "</tr>\n",
       "<tr>\n",
       "  <th>Intercept</th>              <td>   50.5314</td> <td>   10.475</td> <td>    4.824</td> <td> 0.000</td> <td>   30.001    71.062</td>\n",
       "</tr>\n",
       "<tr>\n",
       "  <th>metastasis[T.Positive]</th> <td>  -19.4584</td> <td>    9.458</td> <td>   -2.057</td> <td> 0.040</td> <td>  -37.997    -0.920</td>\n",
       "</tr>\n",
       "<tr>\n",
       "  <th>new_tumor[T.YES]</th>       <td>  -16.3174</td> <td>    3.696</td> <td>   -4.415</td> <td> 0.000</td> <td>  -23.561    -9.074</td>\n",
       "</tr>\n",
       "<tr>\n",
       "  <th>age</th>                    <td>    0.4237</td> <td>    0.096</td> <td>    4.402</td> <td> 0.000</td> <td>    0.235     0.612</td>\n",
       "</tr>\n",
       "<tr>\n",
       "  <th>cluster_float</th>          <td>  -14.8418</td> <td>    3.341</td> <td>   -4.442</td> <td> 0.000</td> <td>  -21.391    -8.293</td>\n",
       "</tr>\n",
       "<tr>\n",
       "  <th>pca1_float</th>             <td>  200.9353</td> <td>   46.993</td> <td>    4.276</td> <td> 0.000</td> <td>  108.832   293.039</td>\n",
       "</tr>\n",
       "<tr>\n",
       "  <th>PIK3CA_float</th>           <td>-7.335e+05</td> <td> 1.54e+05</td> <td>   -4.756</td> <td> 0.000</td> <td>-1.04e+06 -4.31e+05</td>\n",
       "</tr>\n",
       "<tr>\n",
       "  <th>ENO1_float</th>             <td> 1.153e+04</td> <td> 2696.845</td> <td>    4.276</td> <td> 0.000</td> <td> 6246.784  1.68e+04</td>\n",
       "</tr>\n",
       "<tr>\n",
       "  <th>TP53_float</th>             <td>  -6.2e+05</td> <td> 1.27e+05</td> <td>   -4.874</td> <td> 0.000</td> <td>-8.69e+05 -3.71e+05</td>\n",
       "</tr>\n",
       "</table>"
      ],
      "text/plain": [
       "<class 'statsmodels.iolib.summary.Summary'>\n",
       "\"\"\"\n",
       "                           Logit Regression Results                           \n",
       "==============================================================================\n",
       "Dep. Variable:                logit_y   No. Observations:                  519\n",
       "Model:                          Logit   Df Residuals:                      510\n",
       "Method:                           MLE   Df Model:                            8\n",
       "Date:                Thu, 10 Dec 2015   Pseudo R-squ.:                  -11.51\n",
       "Time:                        22:47:55   Log-Likelihood:                -4078.7\n",
       "converged:                      False   LL-Null:                       -326.03\n",
       "                                        LLR p-value:                     1.000\n",
       "==========================================================================================\n",
       "                             coef    std err          z      P>|z|      [95.0% Conf. Int.]\n",
       "------------------------------------------------------------------------------------------\n",
       "Intercept                 50.5314     10.475      4.824      0.000        30.001    71.062\n",
       "metastasis[T.Positive]   -19.4584      9.458     -2.057      0.040       -37.997    -0.920\n",
       "new_tumor[T.YES]         -16.3174      3.696     -4.415      0.000       -23.561    -9.074\n",
       "age                        0.4237      0.096      4.402      0.000         0.235     0.612\n",
       "cluster_float            -14.8418      3.341     -4.442      0.000       -21.391    -8.293\n",
       "pca1_float               200.9353     46.993      4.276      0.000       108.832   293.039\n",
       "PIK3CA_float           -7.335e+05   1.54e+05     -4.756      0.000     -1.04e+06 -4.31e+05\n",
       "ENO1_float              1.153e+04   2696.845      4.276      0.000      6246.784  1.68e+04\n",
       "TP53_float               -6.2e+05   1.27e+05     -4.874      0.000     -8.69e+05 -3.71e+05\n",
       "==========================================================================================\n",
       "\"\"\""
      ]
     },
     "execution_count": 61,
     "metadata": {},
     "output_type": "execute_result"
    }
   ],
   "source": [
    "# Fit logistic model on the entire dataset\n",
    "from sklearn.linear_model import LogisticRegression\n",
    "model = LogisticRegression()\n",
    "model = model.fit(X, y)\n",
    "model_logit =logit('logit_y ~ age + metastasis + new_tumor + cluster_float + pca1_float + PIK3CA_float + ENO1_float + TP53_float'\n",
    "                   , a).fit()\n",
    "model_logit.summary()"
   ]
  },
  {
   "cell_type": "markdown",
   "metadata": {},
   "source": [
    "The summary table above shows that whether developing new tumor after initial treatment, age, cluster, the first Principle Component, PIK3CA, ENO1 and TP53 are important predictors of the log odds of death before 1194 days."
   ]
  },
  {
   "cell_type": "markdown",
   "metadata": {},
   "source": [
    "We checked the accuracy of our model on the entire dataset "
   ]
  },
  {
   "cell_type": "code",
   "execution_count": 62,
   "metadata": {
    "collapsed": false
   },
   "outputs": [
    {
     "data": {
      "text/plain": [
       "0.7032755298651252"
      ]
     },
     "execution_count": 62,
     "metadata": {},
     "output_type": "execute_result"
    }
   ],
   "source": [
    "# check the accuracy on the entire dataset\n",
    "model.score(X, y)"
   ]
  },
  {
   "cell_type": "markdown",
   "metadata": {},
   "source": [
    "Then we splitted the data into training and test data, fitted the same model on the training set and test the statistical power of our model on the test set."
   ]
  },
  {
   "cell_type": "code",
   "execution_count": 63,
   "metadata": {
    "collapsed": false
   },
   "outputs": [
    {
     "name": "stderr",
     "output_type": "stream",
     "text": [
      "/Users/suqinhou/anaconda/lib/python2.7/site-packages/sklearn/utils/validation.py:449: DataConversionWarning: A column-vector y was passed when a 1d array was expected. Please change the shape of y to (n_samples, ), for example using ravel().\n",
      "  y = column_or_1d(y, warn=True)\n"
     ]
    },
    {
     "data": {
      "text/plain": [
       "LogisticRegression(C=1.0, class_weight=None, dual=False, fit_intercept=True,\n",
       "          intercept_scaling=1, max_iter=100, multi_class='ovr',\n",
       "          penalty='l2', random_state=None, solver='liblinear', tol=0.0001,\n",
       "          verbose=0)"
      ]
     },
     "execution_count": 63,
     "metadata": {},
     "output_type": "execute_result"
    }
   ],
   "source": [
    "# split data into training and test set\n",
    "X_train, X_test, y_train, y_test = train_test_split(X, y, test_size=0.3, random_state=0)\n",
    "model2 = LogisticRegression()\n",
    "model2.fit(X_train, y_train) # fit logistic model on the training set"
   ]
  },
  {
   "cell_type": "code",
   "execution_count": 64,
   "metadata": {
    "collapsed": true
   },
   "outputs": [],
   "source": [
    "# predict indicator labels for the test set\n",
    "predicted = model2.predict(X_test)"
   ]
  },
  {
   "cell_type": "code",
   "execution_count": 65,
   "metadata": {
    "collapsed": true
   },
   "outputs": [],
   "source": [
    "# generate indicator probabilities\n",
    "probs = model2.predict_proba(X_test)"
   ]
  },
  {
   "cell_type": "markdown",
   "metadata": {},
   "source": [
    "The accuracy of the model on test set is calculated below."
   ]
  },
  {
   "cell_type": "code",
   "execution_count": 66,
   "metadata": {
    "collapsed": false
   },
   "outputs": [
    {
     "name": "stdout",
     "output_type": "stream",
     "text": [
      "0.634615384615\n"
     ]
    }
   ],
   "source": [
    "from sklearn import metrics\n",
    "from sklearn.cross_validation import cross_val_score\n",
    "print metrics.accuracy_score(y_test, predicted) # accuracy on test set"
   ]
  },
  {
   "cell_type": "markdown",
   "metadata": {},
   "source": [
    "The accuracy is only 63.4%, which is pretty low. However it is pretty reasonable comparing to the accuracy of the model on the entire dataset. Hence one thing remains to do in the future is to do more research on what causes breast cancer, as there seems to be other predictors that haven't been discovered yet."
   ]
  },
  {
   "cell_type": "markdown",
   "metadata": {},
   "source": [
    "The confusion matrix of the test dataset is also calculated below."
   ]
  },
  {
   "cell_type": "code",
   "execution_count": 67,
   "metadata": {
    "collapsed": false
   },
   "outputs": [
    {
     "name": "stdout",
     "output_type": "stream",
     "text": [
      "[[ 4 49]\n",
      " [ 8 95]]\n"
     ]
    }
   ],
   "source": [
    "print metrics.confusion_matrix(y_test, predicted)"
   ]
  },
  {
   "cell_type": "markdown",
   "metadata": {},
   "source": [
    "Out of 156 samples, 4 are true positives, 95 are false negatives, 49 are false negatives and 8 are true positives."
   ]
  },
  {
   "cell_type": "markdown",
   "metadata": {},
   "source": [
    "### 2. Survival model"
   ]
  },
  {
   "cell_type": "markdown",
   "metadata": {},
   "source": [
    "### - Kaplan-Meier Curves for each of the 3 clusters"
   ]
  },
  {
   "cell_type": "markdown",
   "metadata": {},
   "source": [
    "Kaplan-Meier curve is a serious of declining horizontal steps which emulates the true survival functions for the population. Below we plotted 3 Kaplan-Meier curves for each of the three clusters"
   ]
  },
  {
   "cell_type": "code",
   "execution_count": 68,
   "metadata": {
    "collapsed": false
   },
   "outputs": [
    {
     "data": {
      "text/plain": [
       "<matplotlib.axes._subplots.AxesSubplot at 0x189b06fd0>"
      ]
     },
     "execution_count": 68,
     "metadata": {},
     "output_type": "execute_result"
    },
    {
     "data": {
      "image/png": "[encoded data removed]",
      "text/plain": [
       "<matplotlib.figure.Figure at 0x1996a65d0>"
      ]
     },
     "metadata": {},
     "output_type": "display_data"
    }
   ],
   "source": [
    "from lifelines import KaplanMeierFitter\n",
    "sub_0 = a[a.cluster_indicator == 0]\n",
    "sub_1 = a[a.cluster_indicator == 1]\n",
    "sub_2 = a[a.cluster_indicator == 2]\n",
    "\n",
    "\n",
    "%matplotlib inline\n",
    "\n",
    "kmf = KaplanMeierFitter()\n",
    "kmf.fit(sub_0._TIME_TO_EVENT, event_observed=sub_0.event, label='cluster 1')\n",
    "ax1 = kmf.plot()\n",
    "\n",
    "kmf.fit(sub_1._TIME_TO_EVENT, event_observed=sub_1.event, label='cluster 2')\n",
    "kmf.plot(ax = ax1)\n",
    "\n",
    "kmf.fit(sub_2._TIME_TO_EVENT, event_observed=sub_2.event, label='cluster 3')\n",
    "kmf.plot(ax = ax1)\n"
   ]
  },
  {
   "cell_type": "markdown",
   "metadata": {},
   "source": [
    "There is one very short KM-plot which belongs to cluster 3. After examining data in cluster 3, we found that there is only one death and the rest of the observations are all censored. Hence we decided to only use cluster 2 and cluster 3 to fit the logistic regression and Cox Proportional Hazard model below. A new Kaplan-Meier curve is plotted below:"
   ]
  },
  {
   "cell_type": "code",
   "execution_count": 70,
   "metadata": {
    "collapsed": false
   },
   "outputs": [
    {
     "data": {
      "text/plain": [
       "<matplotlib.axes._subplots.AxesSubplot at 0x16fa6d750>"
      ]
     },
     "execution_count": 70,
     "metadata": {},
     "output_type": "execute_result"
    },
    {
     "data": {
      "image/png": "[encoded data removed]",
      "text/plain": [
       "<matplotlib.figure.Figure at 0x10a49d6d0>"
      ]
     },
     "metadata": {},
     "output_type": "display_data"
    }
   ],
   "source": [
    "# KM-plot for cluster1 and cluster2\n",
    "kmf = KaplanMeierFitter()\n",
    "kmf.fit(sub_0._TIME_TO_EVENT, event_observed=sub_0.event, label='cluster 1')\n",
    "ax1 = kmf.plot()\n",
    "\n",
    "kmf.fit(sub_1._TIME_TO_EVENT, event_observed=sub_1.event, label='cluster 2')\n",
    "kmf.plot(ax = ax1)"
   ]
  },
  {
   "cell_type": "markdown",
   "metadata": {},
   "source": [
    "The two curves from cluster 1 and cluster 2 are approximately proportional with only a slight cross-over. Hence the proportional hazard assumption is met and we fitted a Cox PH model to estimate the hazard ratio. "
   ]
  },
  {
   "cell_type": "markdown",
   "metadata": {},
   "source": [
    "### - Cox Proportional Hazards Model"
   ]
  },
  {
   "cell_type": "markdown",
   "metadata": {},
   "source": [
    "The Cox PH model gives a semi-parametric method of estimating the hazard function at time t given a baseline hazard that's modified by a set of covariates:\n",
    "\n",
    "$$\\lambda(t|X) = \\lambda_0*exp(\\beta_0X_0+\\beta_1X_1+...+\\beta_pX_p)=\\lambda_0(t)*exp(\\beta X)$$ \n",
    "\n",
    "where $\\lambda_0(t)$ is the non-parametric baseline hazard function and $\\beta X$ is a linear parametric model adjusting for covariates. Here we used age, the first Principle Component, PIK3CA (the proved driver gene of breast cancer), TP53 (the gene which being proved to have the most mutations in the genome), metastasis (whether cancer spreaded out from breast to other organs), ENO1 (the most differential expressed gene in tumor samples) and new tumor (whether there is new tumor developed after initial treatment) as covariates to predict death hazards at each time point."
   ]
  },
  {
   "cell_type": "code",
   "execution_count": 71,
   "metadata": {
    "collapsed": false
   },
   "outputs": [
    {
     "name": "stderr",
     "output_type": "stream",
     "text": [
      "/Users/suqinhou/anaconda/lib/python2.7/site-packages/ipykernel/__main__.py:20: SettingWithCopyWarning: \n",
      "A value is trying to be set on a copy of a slice from a DataFrame.\n",
      "Try using .loc[row_indexer,col_indexer] = value instead\n",
      "\n",
      "See the the caveats in the documentation: http://pandas.pydata.org/pandas-docs/stable/indexing.html#indexing-view-versus-copy\n",
      "/Users/suqinhou/anaconda/lib/python2.7/site-packages/ipykernel/__main__.py:28: SettingWithCopyWarning: \n",
      "A value is trying to be set on a copy of a slice from a DataFrame.\n",
      "Try using .loc[row_indexer,col_indexer] = value instead\n",
      "\n",
      "See the the caveats in the documentation: http://pandas.pydata.org/pandas-docs/stable/indexing.html#indexing-view-versus-copy\n"
     ]
    }
   ],
   "source": [
    "# code vital_indicator as 1 (dead) or 0 (alive)\n",
    "vital_indicator = []\n",
    "\n",
    "for vital in a['vital_status']:\n",
    "    if vital == 'LIVING':\n",
    "        vital_indicator.append(0)\n",
    "    else:\n",
    "        vital_indicator.append(1)\n",
    "a['vital_indicator'] = vital_indicator\n",
    "\n",
    "# get a subset of useful covariates\n",
    "cox = a[['_TIME_TO_EVENT', 'vital_indicator', 'age','pca1_float','PIK3CA_float','cluster_float','ENO1_float']]\n",
    "\n",
    "metastasis = []\n",
    "for meta in a['metastasis']:\n",
    "    if meta == 'Positive':\n",
    "        metastasis.append(1)\n",
    "    else:\n",
    "        metastasis.append(0)\n",
    "cox['metastasis'] = metastasis\n",
    "\n",
    "new_tumor = []\n",
    "for tumor in a['new_tumor']:\n",
    "    if tumor == 'NO':\n",
    "        new_tumor.append(0)\n",
    "    else:\n",
    "        new_tumor.append(1)\n",
    "cox['new_tumor'] = new_tumor\n"
   ]
  },
  {
   "cell_type": "code",
   "execution_count": 72,
   "metadata": {
    "collapsed": false
   },
   "outputs": [
    {
     "data": {
      "text/html": [
       "<div>\n",
       "<table border=\"1\" class=\"dataframe\">\n",
       "  <thead>\n",
       "    <tr style=\"text-align: right;\">\n",
       "      <th></th>\n",
       "      <th>_TIME_TO_EVENT</th>\n",
       "      <th>vital_indicator</th>\n",
       "      <th>age</th>\n",
       "      <th>pca1_float</th>\n",
       "      <th>PIK3CA_float</th>\n",
       "      <th>cluster_float</th>\n",
       "      <th>ENO1_float</th>\n",
       "      <th>metastasis</th>\n",
       "      <th>new_tumor</th>\n",
       "    </tr>\n",
       "  </thead>\n",
       "  <tbody>\n",
       "    <tr>\n",
       "      <th>33</th>\n",
       "      <td>1964</td>\n",
       "      <td>0</td>\n",
       "      <td>37</td>\n",
       "      <td>0.006365</td>\n",
       "      <td>0.000021</td>\n",
       "      <td>1</td>\n",
       "      <td>0.000822</td>\n",
       "      <td>0</td>\n",
       "      <td>0</td>\n",
       "    </tr>\n",
       "    <tr>\n",
       "      <th>36</th>\n",
       "      <td>2813</td>\n",
       "      <td>0</td>\n",
       "      <td>60</td>\n",
       "      <td>0.002934</td>\n",
       "      <td>0.000006</td>\n",
       "      <td>1</td>\n",
       "      <td>0.001034</td>\n",
       "      <td>0</td>\n",
       "      <td>0</td>\n",
       "    </tr>\n",
       "    <tr>\n",
       "      <th>37</th>\n",
       "      <td>2695</td>\n",
       "      <td>0</td>\n",
       "      <td>62</td>\n",
       "      <td>0.004700</td>\n",
       "      <td>0.000004</td>\n",
       "      <td>1</td>\n",
       "      <td>0.000739</td>\n",
       "      <td>0</td>\n",
       "      <td>0</td>\n",
       "    </tr>\n",
       "    <tr>\n",
       "      <th>39</th>\n",
       "      <td>2298</td>\n",
       "      <td>0</td>\n",
       "      <td>73</td>\n",
       "      <td>0.005222</td>\n",
       "      <td>0.000007</td>\n",
       "      <td>1</td>\n",
       "      <td>0.000494</td>\n",
       "      <td>1</td>\n",
       "      <td>0</td>\n",
       "    </tr>\n",
       "    <tr>\n",
       "      <th>40</th>\n",
       "      <td>2289</td>\n",
       "      <td>0</td>\n",
       "      <td>71</td>\n",
       "      <td>0.005956</td>\n",
       "      <td>0.000014</td>\n",
       "      <td>1</td>\n",
       "      <td>0.000503</td>\n",
       "      <td>0</td>\n",
       "      <td>0</td>\n",
       "    </tr>\n",
       "  </tbody>\n",
       "</table>\n",
       "</div>"
      ],
      "text/plain": [
       "    _TIME_TO_EVENT  vital_indicator  age  pca1_float  PIK3CA_float  \\\n",
       "33            1964                0   37    0.006365      0.000021   \n",
       "36            2813                0   60    0.002934      0.000006   \n",
       "37            2695                0   62    0.004700      0.000004   \n",
       "39            2298                0   73    0.005222      0.000007   \n",
       "40            2289                0   71    0.005956      0.000014   \n",
       "\n",
       "    cluster_float  ENO1_float  metastasis  new_tumor  \n",
       "33              1    0.000822           0          0  \n",
       "36              1    0.001034           0          0  \n",
       "37              1    0.000739           0          0  \n",
       "39              1    0.000494           1          0  \n",
       "40              1    0.000503           0          0  "
      ]
     },
     "execution_count": 72,
     "metadata": {},
     "output_type": "execute_result"
    }
   ],
   "source": [
    "cox.head()"
   ]
  },
  {
   "cell_type": "markdown",
   "metadata": {},
   "source": [
    "We fit the cox model below and print out the summary table."
   ]
  },
  {
   "cell_type": "code",
   "execution_count": 73,
   "metadata": {
    "collapsed": false
   },
   "outputs": [
    {
     "data": {
      "text/plain": [
       "<lifelines.CoxPHFitter: fitted with 519 observations, 476 censored>"
      ]
     },
     "execution_count": 73,
     "metadata": {},
     "output_type": "execute_result"
    }
   ],
   "source": [
    "from lifelines import CoxPHFitter\n",
    "cf = CoxPHFitter()\n",
    "cf.fit(cox,'_TIME_TO_EVENT', event_col='vital_indicator')"
   ]
  },
  {
   "cell_type": "code",
   "execution_count": 74,
   "metadata": {
    "collapsed": false
   },
   "outputs": [
    {
     "name": "stdout",
     "output_type": "stream",
     "text": [
      "n=519, number of events=43\n",
      "\n",
      "                    coef  exp(coef)  se(coef)          z         p  lower 0.95  upper 0.95     \n",
      "age            5.074e-01  1.661e+00 1.757e-01  2.888e+00 3.875e-03   1.630e-01   8.519e-01   **\n",
      "pca1_float    -1.407e-01  8.687e-01 2.072e-01 -6.791e-01 4.971e-01  -5.470e-01   2.655e-01     \n",
      "PIK3CA_float   3.634e-01  1.438e+00 1.905e-01  1.908e+00 5.638e-02  -9.962e-03   7.368e-01    .\n",
      "cluster_float  3.884e-02  1.040e+00 1.957e-01  1.985e-01 8.427e-01  -3.447e-01   4.224e-01     \n",
      "ENO1_float     1.302e-01  1.139e+00 1.180e-01  1.103e+00 2.699e-01  -1.012e-01   3.617e-01     \n",
      "metastasis    -4.660e-03  9.954e-01 6.679e-02 -6.978e-02 9.444e-01  -1.356e-01   1.263e-01     \n",
      "new_tumor      6.642e-01  1.943e+00 1.069e-01  6.212e+00 5.243e-10   4.546e-01   8.739e-01  ***\n",
      "---\n",
      "Signif. codes:  0 '***' 0.001 '**' 0.01 '*' 0.05 '.' 0.1 ' ' 1 \n",
      "\n",
      "Concordance = 0.809\n"
     ]
    }
   ],
   "source": [
    "cf.print_summary()"
   ]
  },
  {
   "cell_type": "markdown",
   "metadata": {},
   "source": [
    "Apparently age is an important predictor of the death hazard (a unit increase in age is associated with 0.510 increases in log hazard rate). Also, the log hazard rate for those who developed new tumor after initial treatment is 0.6 times that for those who didn't develop new tumor. The PIK3CA (the driver gene of breast cancer) is also proved to be significantly associated with the log hazard ratio. "
   ]
  },
  {
   "cell_type": "markdown",
   "metadata": {
    "collapsed": true
   },
   "source": [
    "## View the baseline Hazard rate and survival rate"
   ]
  },
  {
   "cell_type": "code",
   "execution_count": 75,
   "metadata": {
    "collapsed": false
   },
   "outputs": [
    {
     "data": {
      "text/plain": [
       "<matplotlib.axes._subplots.AxesSubplot at 0x10b5e9950>"
      ]
     },
     "execution_count": 75,
     "metadata": {},
     "output_type": "execute_result"
    },
    {
     "data": {
      "image/png": "[encoded data removed]",
      "text/plain": [
       "<matplotlib.figure.Figure at 0x10a692a10>"
      ]
     },
     "metadata": {},
     "output_type": "display_data"
    }
   ],
   "source": [
    "# Hazard rate\n",
    "cf.baseline_cumulative_hazard_.plot(legend=False\n",
    "                ,title='Baseline cumulative hazard rate')"
   ]
  },
  {
   "cell_type": "markdown",
   "metadata": {},
   "source": [
    "As seen above, the hazard rate increases monotonically. Before 3000 days it increases comparably flat, whereas from 3000 days to 4000 days the hazard rate increases dramatically."
   ]
  },
  {
   "cell_type": "code",
   "execution_count": 76,
   "metadata": {
    "collapsed": false
   },
   "outputs": [
    {
     "data": {
      "text/plain": [
       "<matplotlib.axes._subplots.AxesSubplot at 0x10ad4ef50>"
      ]
     },
     "execution_count": 76,
     "metadata": {},
     "output_type": "execute_result"
    },
    {
     "data": {
      "image/png": "[encoded data removed]",
      "text/plain": [
       "<matplotlib.figure.Figure at 0x10b5b2690>"
      ]
     },
     "metadata": {},
     "output_type": "display_data"
    }
   ],
   "source": [
    "# Survival rate\n",
    "cf.baseline_survival_.plot(legend=False\n",
    "                ,title='Baseline survival rate')"
   ]
  },
  {
   "cell_type": "markdown",
   "metadata": {
    "collapsed": true
   },
   "source": [
    "## Conclusion"
   ]
  },
  {
   "cell_type": "markdown",
   "metadata": {},
   "source": [
    "From the Cox regression model, we find that the differential expressed gene PIK3CA (also known as a driver gene of breast cancer) is proved to be significantly associated with the log hazard ratio, so the expression profiles of PIK3CA could be used as a signature to predict patient outcome. We may prove more differential expressed genes that can predict patient outcome in the future. Although principle components are not significantly associated with the log hazard ratio of patients, they are correlated to the patient outcome. We will find other statistical tests to prove that in the future. "
   ]
  }
 ],
 "metadata": {
  "kernelspec": {
   "display_name": "Python 2",
   "language": "python",
   "name": "python2"
  },
  "language_info": {
   "codemirror_mode": {
    "name": "ipython",
    "version": 2
   },
   "file_extension": ".py",
   "mimetype": "text/x-python",
   "name": "python",
   "nbconvert_exporter": "python",
   "pygments_lexer": "ipython2",
   "version": "2.7.10"
  }
 },
 "nbformat": 4,
 "nbformat_minor": 0
}
