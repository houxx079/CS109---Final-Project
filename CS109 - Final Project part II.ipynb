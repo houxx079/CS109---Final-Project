{
 "cells": [
  {
   "cell_type": "markdown",
   "metadata": {},
   "source": [
    "# Supervised Learning in Breast Cancer Data"
   ]
  },
  {
   "cell_type": "markdown",
   "metadata": {},
   "source": [
    "##1.prepare the dataset for supervised clustering"
   ]
  },
  {
   "cell_type": "markdown",
   "metadata": {},
   "source": [
    "We applied unsupervised learning to identify the breast cancer subtypes in the last part. What we discovered was that different subtypes were associated with various clinical outcomes. But we didn't actually know the accuracy of our clustering. If low accuracy occurred, the conclusion we got was questionable. Therefore, we came up with an idea to conduct supervised learning according to the reliable subtype classification information from the literature."
   ]
  },
  {
   "cell_type": "code",
   "execution_count": 2,
   "metadata": {
    "collapsed": false
   },
   "outputs": [],
   "source": [
    "%matplotlib inline\n",
    "import os\n",
    "import csv\n",
    "import numpy as np\n",
    "import matplotlib.pyplot as plt\n",
    "import pandas as pd\n",
    "pd.set_option('display.width', 500)\n",
    "pd.set_option('display.max_columns', 100)\n",
    "pd.set_option('display.notebook_repr_html', True)"
   ]
  },
  {
   "cell_type": "code",
   "execution_count": 3,
   "metadata": {
    "collapsed": false
   },
   "outputs": [
    {
     "data": {
      "text/html": [
       "<div>\n",
       "<table border=\"1\" class=\"dataframe\">\n",
       "  <thead>\n",
       "    <tr style=\"text-align: right;\">\n",
       "      <th></th>\n",
       "      <th>Complete TCGA ID</th>\n",
       "      <th>Gender</th>\n",
       "      <th>Age at Initial Pathologic Diagnosis</th>\n",
       "      <th>ER Status</th>\n",
       "      <th>PR Status</th>\n",
       "      <th>HER2 Final Status</th>\n",
       "      <th>Tumor</th>\n",
       "      <th>Tumor__T1 Coded</th>\n",
       "      <th>Node</th>\n",
       "      <th>Node_Coded</th>\n",
       "      <th>Metastasis</th>\n",
       "      <th>Metastasis_Coded</th>\n",
       "      <th>AJCC Stage</th>\n",
       "      <th>Converted Stage</th>\n",
       "      <th>Survival Data Form</th>\n",
       "      <th>Vital Status</th>\n",
       "      <th>Days to Date of Last Contact</th>\n",
       "      <th>Days to date of Death</th>\n",
       "      <th>OS event</th>\n",
       "      <th>OS Time</th>\n",
       "      <th>PAM50 mRNA</th>\n",
       "      <th>SigClust Unsupervised mRNA</th>\n",
       "      <th>SigClust Intrinsic mRNA</th>\n",
       "      <th>miRNA Clusters</th>\n",
       "      <th>methylation Clusters</th>\n",
       "      <th>RPPA Clusters</th>\n",
       "      <th>CN Clusters</th>\n",
       "      <th>Integrated Clusters (with PAM50)</th>\n",
       "      <th>Integrated Clusters (no exp)</th>\n",
       "      <th>Integrated Clusters (unsup exp)</th>\n",
       "    </tr>\n",
       "  </thead>\n",
       "  <tbody>\n",
       "    <tr>\n",
       "      <th>0</th>\n",
       "      <td>TCGA-A2-A0T2</td>\n",
       "      <td>FEMALE</td>\n",
       "      <td>66</td>\n",
       "      <td>Negative</td>\n",
       "      <td>Negative</td>\n",
       "      <td>Negative</td>\n",
       "      <td>T3</td>\n",
       "      <td>T_Other</td>\n",
       "      <td>N3</td>\n",
       "      <td>Positive</td>\n",
       "      <td>M1</td>\n",
       "      <td>Positive</td>\n",
       "      <td>Stage IV</td>\n",
       "      <td>No_Conversion</td>\n",
       "      <td>followup</td>\n",
       "      <td>DECEASED</td>\n",
       "      <td>240</td>\n",
       "      <td>240</td>\n",
       "      <td>1</td>\n",
       "      <td>240</td>\n",
       "      <td>Basal_like</td>\n",
       "      <td>0</td>\n",
       "      <td>_13</td>\n",
       "      <td>3</td>\n",
       "      <td>5</td>\n",
       "      <td>Basal</td>\n",
       "      <td>3</td>\n",
       "      <td>2</td>\n",
       "      <td>2</td>\n",
       "      <td>2</td>\n",
       "    </tr>\n",
       "    <tr>\n",
       "      <th>1</th>\n",
       "      <td>TCGA-A2-A04P</td>\n",
       "      <td>FEMALE</td>\n",
       "      <td>36</td>\n",
       "      <td>Negative</td>\n",
       "      <td>Negative</td>\n",
       "      <td>Negative</td>\n",
       "      <td>T2</td>\n",
       "      <td>T_Other</td>\n",
       "      <td>N3</td>\n",
       "      <td>Positive</td>\n",
       "      <td>M0</td>\n",
       "      <td>Negative</td>\n",
       "      <td>Stage IIIC</td>\n",
       "      <td>No_Conversion</td>\n",
       "      <td>followup</td>\n",
       "      <td>DECEASED</td>\n",
       "      <td>547</td>\n",
       "      <td>547</td>\n",
       "      <td>1</td>\n",
       "      <td>547</td>\n",
       "      <td>Basal_like</td>\n",
       "      <td>0</td>\n",
       "      <td>_13</td>\n",
       "      <td>5</td>\n",
       "      <td>5</td>\n",
       "      <td>Basal</td>\n",
       "      <td>1</td>\n",
       "      <td>2</td>\n",
       "      <td>2</td>\n",
       "      <td>2</td>\n",
       "    </tr>\n",
       "    <tr>\n",
       "      <th>2</th>\n",
       "      <td>TCGA-A1-A0SK</td>\n",
       "      <td>FEMALE</td>\n",
       "      <td>54</td>\n",
       "      <td>Negative</td>\n",
       "      <td>Negative</td>\n",
       "      <td>Negative</td>\n",
       "      <td>T2</td>\n",
       "      <td>T_Other</td>\n",
       "      <td>N0</td>\n",
       "      <td>Negative</td>\n",
       "      <td>M0</td>\n",
       "      <td>Negative</td>\n",
       "      <td>Stage IIA</td>\n",
       "      <td>Stage IIA</td>\n",
       "      <td>followup</td>\n",
       "      <td>DECEASED</td>\n",
       "      <td>594</td>\n",
       "      <td>967</td>\n",
       "      <td>1</td>\n",
       "      <td>967</td>\n",
       "      <td>Basal_like</td>\n",
       "      <td>_6</td>\n",
       "      <td>_13</td>\n",
       "      <td>5</td>\n",
       "      <td>5</td>\n",
       "      <td>Basal</td>\n",
       "      <td>1</td>\n",
       "      <td>2</td>\n",
       "      <td>2</td>\n",
       "      <td>2</td>\n",
       "    </tr>\n",
       "    <tr>\n",
       "      <th>3</th>\n",
       "      <td>TCGA-A2-A0CM</td>\n",
       "      <td>FEMALE</td>\n",
       "      <td>40</td>\n",
       "      <td>Negative</td>\n",
       "      <td>Negative</td>\n",
       "      <td>Negative</td>\n",
       "      <td>T2</td>\n",
       "      <td>T_Other</td>\n",
       "      <td>N0</td>\n",
       "      <td>Negative</td>\n",
       "      <td>M0</td>\n",
       "      <td>Negative</td>\n",
       "      <td>Stage IIA</td>\n",
       "      <td>Stage IIA</td>\n",
       "      <td>followup</td>\n",
       "      <td>DECEASED</td>\n",
       "      <td>754</td>\n",
       "      <td>754</td>\n",
       "      <td>1</td>\n",
       "      <td>754</td>\n",
       "      <td>Basal_like</td>\n",
       "      <td>_12</td>\n",
       "      <td>_13</td>\n",
       "      <td>4</td>\n",
       "      <td>4</td>\n",
       "      <td>Basal</td>\n",
       "      <td>4</td>\n",
       "      <td>2</td>\n",
       "      <td>1</td>\n",
       "      <td>1</td>\n",
       "    </tr>\n",
       "    <tr>\n",
       "      <th>4</th>\n",
       "      <td>TCGA-AR-A1AR</td>\n",
       "      <td>FEMALE</td>\n",
       "      <td>50</td>\n",
       "      <td>Negative</td>\n",
       "      <td>Negative</td>\n",
       "      <td>Negative</td>\n",
       "      <td>T1</td>\n",
       "      <td>T1</td>\n",
       "      <td>N2</td>\n",
       "      <td>Positive</td>\n",
       "      <td>M0</td>\n",
       "      <td>Negative</td>\n",
       "      <td>Stage III</td>\n",
       "      <td>Stage IIIA</td>\n",
       "      <td>enrollment</td>\n",
       "      <td>DECEASED</td>\n",
       "      <td>[Not Available]</td>\n",
       "      <td>523</td>\n",
       "      <td>1</td>\n",
       "      <td>523</td>\n",
       "      <td>Basal_like</td>\n",
       "      <td>0</td>\n",
       "      <td>_13</td>\n",
       "      <td>5</td>\n",
       "      <td>5</td>\n",
       "      <td>NaN</td>\n",
       "      <td>1</td>\n",
       "      <td>NaN</td>\n",
       "      <td>NaN</td>\n",
       "      <td>NaN</td>\n",
       "    </tr>\n",
       "  </tbody>\n",
       "</table>\n",
       "</div>"
      ],
      "text/plain": [
       "  Complete TCGA ID  Gender  Age at Initial Pathologic Diagnosis ER Status PR Status HER2 Final Status Tumor Tumor__T1 Coded Node Node_Coded Metastasis Metastasis_Coded  AJCC Stage Converted Stage Survival Data Form Vital Status Days to Date of Last Contact  Days to date of Death  OS event  OS Time  PAM50 mRNA SigClust Unsupervised mRNA SigClust Intrinsic mRNA  miRNA Clusters  methylation Clusters RPPA Clusters  CN Clusters  Integrated Clusters (with PAM50)  Integrated Clusters (no exp)  \\\n",
       "0     TCGA-A2-A0T2  FEMALE                                   66  Negative  Negative          Negative    T3         T_Other   N3   Positive         M1         Positive    Stage IV   No_Conversion           followup     DECEASED                          240                    240         1      240  Basal_like                          0                     _13               3                     5         Basal            3                                 2                             2   \n",
       "1     TCGA-A2-A04P  FEMALE                                   36  Negative  Negative          Negative    T2         T_Other   N3   Positive         M0         Negative  Stage IIIC   No_Conversion           followup     DECEASED                          547                    547         1      547  Basal_like                          0                     _13               5                     5         Basal            1                                 2                             2   \n",
       "2     TCGA-A1-A0SK  FEMALE                                   54  Negative  Negative          Negative    T2         T_Other   N0   Negative         M0         Negative   Stage IIA       Stage IIA           followup     DECEASED                          594                    967         1      967  Basal_like                         _6                     _13               5                     5         Basal            1                                 2                             2   \n",
       "3     TCGA-A2-A0CM  FEMALE                                   40  Negative  Negative          Negative    T2         T_Other   N0   Negative         M0         Negative   Stage IIA       Stage IIA           followup     DECEASED                          754                    754         1      754  Basal_like                        _12                     _13               4                     4         Basal            4                                 2                             1   \n",
       "4     TCGA-AR-A1AR  FEMALE                                   50  Negative  Negative          Negative    T1              T1   N2   Positive         M0         Negative   Stage III      Stage IIIA         enrollment     DECEASED              [Not Available]                    523         1      523  Basal_like                          0                     _13               5                     5           NaN            1                               NaN                           NaN   \n",
       "\n",
       "   Integrated Clusters (unsup exp)  \n",
       "0                                2  \n",
       "1                                2  \n",
       "2                                2  \n",
       "3                                1  \n",
       "4                              NaN  "
      ]
     },
     "execution_count": 3,
     "metadata": {},
     "output_type": "execute_result"
    }
   ],
   "source": [
    "#Read-in the data with cancer subtype information\n",
    "brca_info = pd.read_csv('brca_information.txt', sep='\\t')\n",
    "brca_info.head()"
   ]
  },
  {
   "cell_type": "code",
   "execution_count": 7,
   "metadata": {
    "collapsed": true
   },
   "outputs": [],
   "source": [
    "#pick oout the sample barcode and subtype information and clean the data (remove the NA)\n",
    "brca_sub = brca_info[['Complete TCGA ID','PAM50 mRNA']].dropna()"
   ]
  },
  {
   "cell_type": "code",
   "execution_count": 8,
   "metadata": {
    "collapsed": false
   },
   "outputs": [],
   "source": [
    "brca_sub = brca_sub[0:514] #delete the normal sample\n",
    "brca_sub.rename(columns={'Complete TCGA ID':'id', 'PAM50 mRNA':'subtype'}, inplace=True)"
   ]
  },
  {
   "cell_type": "markdown",
   "metadata": {},
   "source": [
    "Here there are four tumor subtypes listed in this table (Basal_like, HER2_enriched, Luminal A and Luminal B). We merged Luminal A and Luminal B into one group and added a subtype_indicator variable to simplify our further analysis (0,1,2 means Basal_like, HER2_enriched and Luminal, respetively)."
   ]
  },
  {
   "cell_type": "code",
   "execution_count": 13,
   "metadata": {
    "collapsed": false
   },
   "outputs": [],
   "source": [
    "subtype_indicator = []\n",
    "for i in brca_sub['subtype']:\n",
    "    if i == 'Basal_like':\n",
    "        subtype_indicator.append(0)\n",
    "    elif i == 'HER2_enriched':\n",
    "        subtype_indicator.append(1)\n",
    "    else:\n",
    "        subtype_indicator.append(2)\n",
    "        \n",
    "brca_sub['subtype_indicator'] = subtype_indicator"
   ]
  },
  {
   "cell_type": "code",
   "execution_count": 14,
   "metadata": {
    "collapsed": false
   },
   "outputs": [
    {
     "data": {
      "text/html": [
       "<div>\n",
       "<table border=\"1\" class=\"dataframe\">\n",
       "  <thead>\n",
       "    <tr style=\"text-align: right;\">\n",
       "      <th></th>\n",
       "      <th>id</th>\n",
       "      <th>subtype</th>\n",
       "      <th>subtype_indicator</th>\n",
       "    </tr>\n",
       "  </thead>\n",
       "  <tbody>\n",
       "    <tr>\n",
       "      <th>0</th>\n",
       "      <td>TCGA-A2-A0T2</td>\n",
       "      <td>Basal_like</td>\n",
       "      <td>0</td>\n",
       "    </tr>\n",
       "    <tr>\n",
       "      <th>1</th>\n",
       "      <td>TCGA-A2-A04P</td>\n",
       "      <td>Basal_like</td>\n",
       "      <td>0</td>\n",
       "    </tr>\n",
       "    <tr>\n",
       "      <th>2</th>\n",
       "      <td>TCGA-A1-A0SK</td>\n",
       "      <td>Basal_like</td>\n",
       "      <td>0</td>\n",
       "    </tr>\n",
       "    <tr>\n",
       "      <th>3</th>\n",
       "      <td>TCGA-A2-A0CM</td>\n",
       "      <td>Basal_like</td>\n",
       "      <td>0</td>\n",
       "    </tr>\n",
       "    <tr>\n",
       "      <th>4</th>\n",
       "      <td>TCGA-AR-A1AR</td>\n",
       "      <td>Basal_like</td>\n",
       "      <td>0</td>\n",
       "    </tr>\n",
       "  </tbody>\n",
       "</table>\n",
       "</div>"
      ],
      "text/plain": [
       "             id     subtype  subtype_indicator\n",
       "0  TCGA-A2-A0T2  Basal_like                  0\n",
       "1  TCGA-A2-A04P  Basal_like                  0\n",
       "2  TCGA-A1-A0SK  Basal_like                  0\n",
       "3  TCGA-A2-A0CM  Basal_like                  0\n",
       "4  TCGA-AR-A1AR  Basal_like                  0"
      ]
     },
     "execution_count": 14,
     "metadata": {},
     "output_type": "execute_result"
    }
   ],
   "source": [
    "brca_sub.head()"
   ]
  },
  {
   "cell_type": "code",
   "execution_count": 19,
   "metadata": {
    "collapsed": false
   },
   "outputs": [],
   "source": [
    "# the list of tumor barcode and their corresponding subtype indicator.\n",
    "id_list = np.array(brca_sub.id)\n",
    "ind_list = np.array(brca_sub['subtype_indicator'])"
   ]
  },
  {
   "cell_type": "code",
   "execution_count": 27,
   "metadata": {
    "collapsed": false
   },
   "outputs": [],
   "source": [
    "# Read the expression file and clean the data\n",
    "f = open(\"brca.txt\",\"rb\")\n",
    "headers = str(f.next()).strip('[').strip(']').strip(\"'\").replace('\"','').split() \n",
    "f.close()\n",
    "df = pd.read_csv('brca.txt', sep=' ',names=['index'] + headers,low_memory=False)\n",
    "brca = df.ix[1:]"
   ]
  },
  {
   "cell_type": "markdown",
   "metadata": {},
   "source": [
    "Then we bulit a dictionary subtype_id with the key as the sample barcodes that occur in both the expression file and the information file and the indicators as its values and picked out the samples from the expression file."
   ]
  },
  {
   "cell_type": "code",
   "execution_count": 20,
   "metadata": {
    "collapsed": false
   },
   "outputs": [],
   "source": [
    "subtype_id = {}\n",
    "for barcode in brca.columns:\n",
    "    for i in range(len(id_list)): \n",
    "        if barcode[0:12] == id_list[i]:\n",
    "            if barcode[13:15]!='11':\n",
    "                subtype_id[barcode] = ind_list[i]"
   ]
  },
  {
   "cell_type": "code",
   "execution_count": 21,
   "metadata": {
    "collapsed": false
   },
   "outputs": [],
   "source": [
    "#adjust the dataset  \n",
    "brca_subtype = brca[subtype_id.keys()]\n",
    "brca_subtype = brca_subtype.set_index(brca['index'])"
   ]
  },
  {
   "cell_type": "code",
   "execution_count": 22,
   "metadata": {
    "collapsed": false
   },
   "outputs": [],
   "source": [
    "brca_subtype_trans = brca_subtype.transpose()\n",
    "brca_subtype_trans['subtype'] = subtype_id.values()"
   ]
  },
  {
   "cell_type": "code",
   "execution_count": 23,
   "metadata": {
    "collapsed": false
   },
   "outputs": [
    {
     "data": {
      "text/plain": [
       "subtype\n",
       "0     98\n",
       "1     58\n",
       "2    362\n",
       "Name: ZXDA|7789, dtype: int64"
      ]
     },
     "execution_count": 23,
     "metadata": {},
     "output_type": "execute_result"
    }
   ],
   "source": [
    "#calculate the number of samples in each group\n",
    "brca_subtype_trans.groupby('subtype').count()['ZXDA|7789']"
   ]
  },
  {
   "cell_type": "code",
   "execution_count": 24,
   "metadata": {
    "collapsed": true
   },
   "outputs": [],
   "source": [
    "brca_subtype_trans_sorted = brca_subtype_trans.sort('subtype', ascending=True)\n",
    "brca_subtype_trans_sorted = pd.DataFrame(brca_subtype_trans_sorted, dtype='float')"
   ]
  },
  {
   "cell_type": "code",
   "execution_count": 25,
   "metadata": {
    "collapsed": false
   },
   "outputs": [],
   "source": [
    "brca_for_test = brca_subtype_trans_sorted.transpose()\n",
    "brca_for_r = brca_for_test[:-1]"
   ]
  },
  {
   "cell_type": "code",
   "execution_count": 26,
   "metadata": {
    "collapsed": false
   },
   "outputs": [],
   "source": [
    "brca_for_r.to_csv(\"brca_for_r.csv\")"
   ]
  },
  {
   "cell_type": "markdown",
   "metadata": {},
   "source": [
    "Here we applied the Limma from R (Bioconductor), linear Models for Microarray and RNA-Seq Data, to discover the differential expressed genes among three subtypes and to perform the multiple hypothesis testing to adjust the p-values. Then we picked out the top 100 genes that have the smallest adjusted p-value, the codes are:\n",
    "\n",
    "####library(limma)\n",
    "####brca <- read.csv(\"brca_for_r.csv\",header=T,row.names=1)\n",
    "####design <- c(rep(0,98),rep(1,58),rep(2,362))\n",
    "####design.mat <- model.matrix(~design)\n",
    "####fit <- lmFit(brca,design.mat)\n",
    "####fit <- eBayes(fit)\n",
    "####brca_deg <- topTable(fit,coef = \"design\",number=100,p.value=0.01)\n",
    "####write.table(row.names(brca_deg),file=\"brca_deg_list.txt\",quote=F,sep=\"\\t\")\n"
   ]
  },
  {
   "cell_type": "code",
   "execution_count": 28,
   "metadata": {
    "collapsed": true
   },
   "outputs": [],
   "source": [
    "# read the list of differential expressed genes which is the output of the previous step\n",
    "brca_deg = pd.read_csv('brca_deg_list.txt', sep='\\t')"
   ]
  },
  {
   "cell_type": "code",
   "execution_count": 32,
   "metadata": {
    "collapsed": false
   },
   "outputs": [],
   "source": [
    "brca_deg_list = list(brca_deg.x)\n",
    "breast_cancer = brca_for_test.loc[brca_deg_list,:].transpose()"
   ]
  },
  {
   "cell_type": "code",
   "execution_count": 33,
   "metadata": {
    "collapsed": false
   },
   "outputs": [
    {
     "data": {
      "text/html": [
       "<div>\n",
       "<table border=\"1\" class=\"dataframe\">\n",
       "  <thead>\n",
       "    <tr style=\"text-align: right;\">\n",
       "      <th>index</th>\n",
       "      <th>FOXA1|3169</th>\n",
       "      <th>FAM171A1|221061</th>\n",
       "      <th>B3GNT5|84002</th>\n",
       "      <th>RGMA|56963</th>\n",
       "      <th>CDCA7|83879</th>\n",
       "      <th>C11orf75|56935</th>\n",
       "      <th>TTLL4|9654</th>\n",
       "      <th>BCL11A|53335</th>\n",
       "      <th>UQCRHL|440567</th>\n",
       "      <th>PADI2|11240</th>\n",
       "      <th>SFRS13B|135295</th>\n",
       "      <th>EN1|2019</th>\n",
       "      <th>FOXC1|2296</th>\n",
       "      <th>UCK2|7371</th>\n",
       "      <th>CXorf61|203413</th>\n",
       "      <th>UQCRH|7388</th>\n",
       "      <th>GABRP|2568</th>\n",
       "      <th>HMGA1|3159</th>\n",
       "      <th>ZNF462|58499</th>\n",
       "      <th>TCF7L1|83439</th>\n",
       "      <th>PSAT1|29968</th>\n",
       "      <th>PRKX|5613</th>\n",
       "      <th>IFRD1|3475</th>\n",
       "      <th>CDC20|991</th>\n",
       "      <th>KIAA1804|84451</th>\n",
       "      <th>GLIPR2|152007</th>\n",
       "      <th>GATA3|2625</th>\n",
       "      <th>MEMO1|51072</th>\n",
       "      <th>MLPH|79083</th>\n",
       "      <th>NCK2|8440</th>\n",
       "      <th>MICALL1|85377</th>\n",
       "      <th>CEBPB|1051</th>\n",
       "      <th>PDSS1|23590</th>\n",
       "      <th>TSPAN33|340348</th>\n",
       "      <th>ANP32E|81611</th>\n",
       "      <th>ZNF454|285676</th>\n",
       "      <th>FAM123B|139285</th>\n",
       "      <th>CDH3|1001</th>\n",
       "      <th>ENO1|2023</th>\n",
       "      <th>ST8SIA1|6489</th>\n",
       "      <th>ZNF695|57116</th>\n",
       "      <th>CDK2AP1|8099</th>\n",
       "      <th>CDCA8|55143</th>\n",
       "      <th>AURKB|9212</th>\n",
       "      <th>C12orf10|60314</th>\n",
       "      <th>SFT2D2|375035</th>\n",
       "      <th>FMNL2|114793</th>\n",
       "      <th>MTHFD1L|25902</th>\n",
       "      <th>SKP1|6500</th>\n",
       "      <th>SLC43A3|29015</th>\n",
       "      <th>HAPLN3|145864</th>\n",
       "      <th>MFSD2B|388931</th>\n",
       "      <th>XBP1|7494</th>\n",
       "      <th>ELF5|2001</th>\n",
       "      <th>UBE2E3|10477</th>\n",
       "      <th>HRASLS|57110</th>\n",
       "      <th>DNALI1|7802</th>\n",
       "      <th>POLR2F|5435</th>\n",
       "      <th>NASP|4678</th>\n",
       "      <th>RASAL1|8437</th>\n",
       "      <th>AKR1E2|83592</th>\n",
       "      <th>SUV39H2|79723</th>\n",
       "      <th>USP6NL|9712</th>\n",
       "      <th>PHGDH|26227</th>\n",
       "      <th>LMO4|8543</th>\n",
       "      <th>C9orf30|91283</th>\n",
       "      <th>KIF2C|11004</th>\n",
       "      <th>ZBTB7A|51341</th>\n",
       "      <th>BTF3|689</th>\n",
       "      <th>CENPA|1058</th>\n",
       "      <th>STMN1|3925</th>\n",
       "      <th>RHOB|388</th>\n",
       "      <th>TMSB15B|286527</th>\n",
       "      <th>TBX19|9095</th>\n",
       "      <th>ILF2|3608</th>\n",
       "      <th>TTC8|123016</th>\n",
       "      <th>CDKN2A|1029</th>\n",
       "      <th>LDHB|3945</th>\n",
       "      <th>TMBIM6|7009</th>\n",
       "      <th>SOX10|6663</th>\n",
       "      <th>NDC80|10403</th>\n",
       "      <th>TTK|7272</th>\n",
       "      <th>FLJ36031|168455</th>\n",
       "      <th>CLCN4|1183</th>\n",
       "      <th>ANKRA2|57763</th>\n",
       "      <th>IVD|3712</th>\n",
       "      <th>KIAA0141|9812</th>\n",
       "      <th>CHCHD5|84269</th>\n",
       "      <th>CCDC82|79780</th>\n",
       "      <th>PELI1|57162</th>\n",
       "      <th>NT5DC2|64943</th>\n",
       "      <th>PPP1R14C|81706</th>\n",
       "      <th>KIAA0020|9933</th>\n",
       "      <th>ZIC1|7545</th>\n",
       "      <th>MELK|9833</th>\n",
       "      <th>DAZAP2|9802</th>\n",
       "      <th>MEX3A|92312</th>\n",
       "      <th>CDC42EP1|11135</th>\n",
       "      <th>CENPN|55839</th>\n",
       "      <th>ATL2|64225</th>\n",
       "    </tr>\n",
       "  </thead>\n",
       "  <tbody>\n",
       "    <tr>\n",
       "      <th>TCGA-AN-A04D-01A-21R-A034-07</th>\n",
       "      <td>1.730230e-06</td>\n",
       "      <td>0.000041</td>\n",
       "      <td>0.000039</td>\n",
       "      <td>0.000102</td>\n",
       "      <td>0.000026</td>\n",
       "      <td>0.000085</td>\n",
       "      <td>0.000055</td>\n",
       "      <td>0.000040</td>\n",
       "      <td>0.000364</td>\n",
       "      <td>0.000111</td>\n",
       "      <td>4.274570e-06</td>\n",
       "      <td>0.000079</td>\n",
       "      <td>0.000060</td>\n",
       "      <td>0.000128</td>\n",
       "      <td>0.000024</td>\n",
       "      <td>0.001476</td>\n",
       "      <td>0.000409</td>\n",
       "      <td>0.000247</td>\n",
       "      <td>0.000011</td>\n",
       "      <td>0.000058</td>\n",
       "      <td>0.000009</td>\n",
       "      <td>0.000015</td>\n",
       "      <td>0.000039</td>\n",
       "      <td>0.000141</td>\n",
       "      <td>0.000011</td>\n",
       "      <td>0.000166</td>\n",
       "      <td>4.660106e-07</td>\n",
       "      <td>0.000034</td>\n",
       "      <td>0.000004</td>\n",
       "      <td>0.000056</td>\n",
       "      <td>0.000028</td>\n",
       "      <td>0.000145</td>\n",
       "      <td>0.000029</td>\n",
       "      <td>0.000046</td>\n",
       "      <td>0.000161</td>\n",
       "      <td>0.000005</td>\n",
       "      <td>0.000007</td>\n",
       "      <td>0.000003</td>\n",
       "      <td>0.000528</td>\n",
       "      <td>0.000004</td>\n",
       "      <td>0.000018</td>\n",
       "      <td>0.001317</td>\n",
       "      <td>0.000092</td>\n",
       "      <td>0.000047</td>\n",
       "      <td>0.000045</td>\n",
       "      <td>0.000037</td>\n",
       "      <td>0.000022</td>\n",
       "      <td>0.000014</td>\n",
       "      <td>0.000207</td>\n",
       "      <td>0.000047</td>\n",
       "      <td>0.000071</td>\n",
       "      <td>0.000004</td>\n",
       "      <td>0.000280</td>\n",
       "      <td>0.000197</td>\n",
       "      <td>0.000223</td>\n",
       "      <td>0.000021</td>\n",
       "      <td>7.460657e-07</td>\n",
       "      <td>0.000066</td>\n",
       "      <td>0.000283</td>\n",
       "      <td>0.000012</td>\n",
       "      <td>0.000009</td>\n",
       "      <td>0.000013</td>\n",
       "      <td>0.000021</td>\n",
       "      <td>0.000274</td>\n",
       "      <td>0.000265</td>\n",
       "      <td>0.000031</td>\n",
       "      <td>0.000108</td>\n",
       "      <td>0.000009</td>\n",
       "      <td>0.000358</td>\n",
       "      <td>0.000034</td>\n",
       "      <td>0.001064</td>\n",
       "      <td>0.000114</td>\n",
       "      <td>0.000049</td>\n",
       "      <td>0.000009</td>\n",
       "      <td>0.000891</td>\n",
       "      <td>0.000006</td>\n",
       "      <td>6.239159e-05</td>\n",
       "      <td>0.000620</td>\n",
       "      <td>0.000641</td>\n",
       "      <td>0.000415</td>\n",
       "      <td>0.000053</td>\n",
       "      <td>0.000031</td>\n",
       "      <td>0.000006</td>\n",
       "      <td>0.000001</td>\n",
       "      <td>0.000006</td>\n",
       "      <td>0.000003</td>\n",
       "      <td>0.000025</td>\n",
       "      <td>0.000031</td>\n",
       "      <td>0.000018</td>\n",
       "      <td>0.000023</td>\n",
       "      <td>0.000054</td>\n",
       "      <td>2.992853e-07</td>\n",
       "      <td>0.000063</td>\n",
       "      <td>2.426209e-05</td>\n",
       "      <td>0.000039</td>\n",
       "      <td>0.000211</td>\n",
       "      <td>0.000144</td>\n",
       "      <td>0.000060</td>\n",
       "      <td>0.000019</td>\n",
       "      <td>0.000214</td>\n",
       "    </tr>\n",
       "    <tr>\n",
       "      <th>TCGA-AR-A0TP-01A-11R-A084-07</th>\n",
       "      <td>3.049591e-06</td>\n",
       "      <td>0.000024</td>\n",
       "      <td>0.000023</td>\n",
       "      <td>0.000045</td>\n",
       "      <td>0.000022</td>\n",
       "      <td>0.000074</td>\n",
       "      <td>0.000013</td>\n",
       "      <td>0.000026</td>\n",
       "      <td>0.000138</td>\n",
       "      <td>0.000192</td>\n",
       "      <td>1.937751e-06</td>\n",
       "      <td>0.000068</td>\n",
       "      <td>0.000049</td>\n",
       "      <td>0.000051</td>\n",
       "      <td>0.000049</td>\n",
       "      <td>0.000514</td>\n",
       "      <td>0.000248</td>\n",
       "      <td>0.000146</td>\n",
       "      <td>0.000049</td>\n",
       "      <td>0.000041</td>\n",
       "      <td>0.000050</td>\n",
       "      <td>0.000027</td>\n",
       "      <td>0.000039</td>\n",
       "      <td>0.000055</td>\n",
       "      <td>0.000021</td>\n",
       "      <td>0.000049</td>\n",
       "      <td>2.739239e-07</td>\n",
       "      <td>0.000025</td>\n",
       "      <td>0.000008</td>\n",
       "      <td>0.000146</td>\n",
       "      <td>0.000045</td>\n",
       "      <td>0.000065</td>\n",
       "      <td>0.000009</td>\n",
       "      <td>0.000115</td>\n",
       "      <td>0.000093</td>\n",
       "      <td>0.000002</td>\n",
       "      <td>0.000003</td>\n",
       "      <td>0.000024</td>\n",
       "      <td>0.002900</td>\n",
       "      <td>0.000008</td>\n",
       "      <td>0.000002</td>\n",
       "      <td>0.000567</td>\n",
       "      <td>0.000025</td>\n",
       "      <td>0.000019</td>\n",
       "      <td>0.000019</td>\n",
       "      <td>0.000057</td>\n",
       "      <td>0.000028</td>\n",
       "      <td>0.000013</td>\n",
       "      <td>0.000121</td>\n",
       "      <td>0.000151</td>\n",
       "      <td>0.000196</td>\n",
       "      <td>0.000003</td>\n",
       "      <td>0.000353</td>\n",
       "      <td>0.000046</td>\n",
       "      <td>0.000087</td>\n",
       "      <td>0.000006</td>\n",
       "      <td>4.270029e-07</td>\n",
       "      <td>0.000044</td>\n",
       "      <td>0.000071</td>\n",
       "      <td>0.000017</td>\n",
       "      <td>0.000005</td>\n",
       "      <td>0.000006</td>\n",
       "      <td>0.000017</td>\n",
       "      <td>0.000878</td>\n",
       "      <td>0.000111</td>\n",
       "      <td>0.000034</td>\n",
       "      <td>0.000020</td>\n",
       "      <td>0.000009</td>\n",
       "      <td>0.000580</td>\n",
       "      <td>0.000012</td>\n",
       "      <td>0.000550</td>\n",
       "      <td>0.000089</td>\n",
       "      <td>0.000020</td>\n",
       "      <td>0.000020</td>\n",
       "      <td>0.000398</td>\n",
       "      <td>0.000009</td>\n",
       "      <td>1.139181e-04</td>\n",
       "      <td>0.000596</td>\n",
       "      <td>0.000343</td>\n",
       "      <td>0.000295</td>\n",
       "      <td>0.000022</td>\n",
       "      <td>0.000016</td>\n",
       "      <td>0.000013</td>\n",
       "      <td>0.000002</td>\n",
       "      <td>0.000004</td>\n",
       "      <td>0.000019</td>\n",
       "      <td>0.000010</td>\n",
       "      <td>0.000023</td>\n",
       "      <td>0.000043</td>\n",
       "      <td>0.000042</td>\n",
       "      <td>0.000090</td>\n",
       "      <td>5.990495e-06</td>\n",
       "      <td>0.000046</td>\n",
       "      <td>1.169343e-07</td>\n",
       "      <td>0.000024</td>\n",
       "      <td>0.000118</td>\n",
       "      <td>0.000031</td>\n",
       "      <td>0.000170</td>\n",
       "      <td>0.000017</td>\n",
       "      <td>0.000066</td>\n",
       "    </tr>\n",
       "    <tr>\n",
       "      <th>TCGA-BH-A0BG-01A-11R-A115-07</th>\n",
       "      <td>5.892785e-07</td>\n",
       "      <td>0.000055</td>\n",
       "      <td>0.000010</td>\n",
       "      <td>0.000039</td>\n",
       "      <td>0.000014</td>\n",
       "      <td>0.000062</td>\n",
       "      <td>0.000048</td>\n",
       "      <td>0.000021</td>\n",
       "      <td>0.000178</td>\n",
       "      <td>0.000217</td>\n",
       "      <td>5.934668e-07</td>\n",
       "      <td>0.000080</td>\n",
       "      <td>0.000062</td>\n",
       "      <td>0.000057</td>\n",
       "      <td>0.000037</td>\n",
       "      <td>0.000535</td>\n",
       "      <td>0.001199</td>\n",
       "      <td>0.000206</td>\n",
       "      <td>0.000016</td>\n",
       "      <td>0.000050</td>\n",
       "      <td>0.000028</td>\n",
       "      <td>0.000024</td>\n",
       "      <td>0.000021</td>\n",
       "      <td>0.000046</td>\n",
       "      <td>0.000012</td>\n",
       "      <td>0.000068</td>\n",
       "      <td>1.236405e-05</td>\n",
       "      <td>0.000033</td>\n",
       "      <td>0.000005</td>\n",
       "      <td>0.000093</td>\n",
       "      <td>0.000029</td>\n",
       "      <td>0.000120</td>\n",
       "      <td>0.000008</td>\n",
       "      <td>0.000049</td>\n",
       "      <td>0.000064</td>\n",
       "      <td>0.000001</td>\n",
       "      <td>0.000006</td>\n",
       "      <td>0.000150</td>\n",
       "      <td>0.001937</td>\n",
       "      <td>0.000005</td>\n",
       "      <td>0.000002</td>\n",
       "      <td>0.000462</td>\n",
       "      <td>0.000016</td>\n",
       "      <td>0.000036</td>\n",
       "      <td>0.000032</td>\n",
       "      <td>0.000037</td>\n",
       "      <td>0.000038</td>\n",
       "      <td>0.000012</td>\n",
       "      <td>0.000147</td>\n",
       "      <td>0.000152</td>\n",
       "      <td>0.000235</td>\n",
       "      <td>0.000004</td>\n",
       "      <td>0.000220</td>\n",
       "      <td>0.000370</td>\n",
       "      <td>0.000137</td>\n",
       "      <td>0.000004</td>\n",
       "      <td>1.138655e-06</td>\n",
       "      <td>0.000030</td>\n",
       "      <td>0.000081</td>\n",
       "      <td>0.000005</td>\n",
       "      <td>0.000004</td>\n",
       "      <td>0.000009</td>\n",
       "      <td>0.000025</td>\n",
       "      <td>0.000079</td>\n",
       "      <td>0.000105</td>\n",
       "      <td>0.000029</td>\n",
       "      <td>0.000020</td>\n",
       "      <td>0.000013</td>\n",
       "      <td>0.000642</td>\n",
       "      <td>0.000011</td>\n",
       "      <td>0.000332</td>\n",
       "      <td>0.000060</td>\n",
       "      <td>0.000022</td>\n",
       "      <td>0.000025</td>\n",
       "      <td>0.000321</td>\n",
       "      <td>0.000015</td>\n",
       "      <td>1.658079e-06</td>\n",
       "      <td>0.000687</td>\n",
       "      <td>0.000300</td>\n",
       "      <td>0.000180</td>\n",
       "      <td>0.000034</td>\n",
       "      <td>0.000011</td>\n",
       "      <td>0.000022</td>\n",
       "      <td>0.000014</td>\n",
       "      <td>0.000005</td>\n",
       "      <td>0.000011</td>\n",
       "      <td>0.000018</td>\n",
       "      <td>0.000032</td>\n",
       "      <td>0.000035</td>\n",
       "      <td>0.000030</td>\n",
       "      <td>0.000064</td>\n",
       "      <td>1.106708e-05</td>\n",
       "      <td>0.000047</td>\n",
       "      <td>7.150037e-06</td>\n",
       "      <td>0.000021</td>\n",
       "      <td>0.000240</td>\n",
       "      <td>0.000010</td>\n",
       "      <td>0.000129</td>\n",
       "      <td>0.000012</td>\n",
       "      <td>0.000045</td>\n",
       "    </tr>\n",
       "    <tr>\n",
       "      <th>TCGA-D8-A147-01A-11R-A115-07</th>\n",
       "      <td>2.569597e-08</td>\n",
       "      <td>0.000031</td>\n",
       "      <td>0.000029</td>\n",
       "      <td>0.000032</td>\n",
       "      <td>0.000042</td>\n",
       "      <td>0.000032</td>\n",
       "      <td>0.000067</td>\n",
       "      <td>0.000010</td>\n",
       "      <td>0.000152</td>\n",
       "      <td>0.000212</td>\n",
       "      <td>5.981410e-06</td>\n",
       "      <td>0.000095</td>\n",
       "      <td>0.000078</td>\n",
       "      <td>0.000087</td>\n",
       "      <td>0.000040</td>\n",
       "      <td>0.000492</td>\n",
       "      <td>0.001235</td>\n",
       "      <td>0.000291</td>\n",
       "      <td>0.000029</td>\n",
       "      <td>0.000026</td>\n",
       "      <td>0.000077</td>\n",
       "      <td>0.000034</td>\n",
       "      <td>0.000055</td>\n",
       "      <td>0.000080</td>\n",
       "      <td>0.000030</td>\n",
       "      <td>0.000064</td>\n",
       "      <td>4.577537e-06</td>\n",
       "      <td>0.000044</td>\n",
       "      <td>0.000017</td>\n",
       "      <td>0.000129</td>\n",
       "      <td>0.000044</td>\n",
       "      <td>0.000070</td>\n",
       "      <td>0.000012</td>\n",
       "      <td>0.000051</td>\n",
       "      <td>0.000150</td>\n",
       "      <td>0.000005</td>\n",
       "      <td>0.000009</td>\n",
       "      <td>0.000073</td>\n",
       "      <td>0.001486</td>\n",
       "      <td>0.000001</td>\n",
       "      <td>0.000023</td>\n",
       "      <td>0.000532</td>\n",
       "      <td>0.000038</td>\n",
       "      <td>0.000033</td>\n",
       "      <td>0.000036</td>\n",
       "      <td>0.000075</td>\n",
       "      <td>0.000067</td>\n",
       "      <td>0.000020</td>\n",
       "      <td>0.000224</td>\n",
       "      <td>0.000334</td>\n",
       "      <td>0.000035</td>\n",
       "      <td>0.000004</td>\n",
       "      <td>0.000288</td>\n",
       "      <td>0.000135</td>\n",
       "      <td>0.000167</td>\n",
       "      <td>0.000020</td>\n",
       "      <td>8.611817e-06</td>\n",
       "      <td>0.000020</td>\n",
       "      <td>0.000140</td>\n",
       "      <td>0.000007</td>\n",
       "      <td>0.000005</td>\n",
       "      <td>0.000016</td>\n",
       "      <td>0.000025</td>\n",
       "      <td>0.000240</td>\n",
       "      <td>0.000163</td>\n",
       "      <td>0.000078</td>\n",
       "      <td>0.000038</td>\n",
       "      <td>0.000009</td>\n",
       "      <td>0.000796</td>\n",
       "      <td>0.000030</td>\n",
       "      <td>0.000814</td>\n",
       "      <td>0.000042</td>\n",
       "      <td>0.000059</td>\n",
       "      <td>0.000007</td>\n",
       "      <td>0.000724</td>\n",
       "      <td>0.000012</td>\n",
       "      <td>9.177106e-05</td>\n",
       "      <td>0.001178</td>\n",
       "      <td>0.000457</td>\n",
       "      <td>0.000144</td>\n",
       "      <td>0.000021</td>\n",
       "      <td>0.000030</td>\n",
       "      <td>0.000015</td>\n",
       "      <td>0.000014</td>\n",
       "      <td>0.000012</td>\n",
       "      <td>0.000021</td>\n",
       "      <td>0.000026</td>\n",
       "      <td>0.000021</td>\n",
       "      <td>0.000033</td>\n",
       "      <td>0.000023</td>\n",
       "      <td>0.000065</td>\n",
       "      <td>2.715361e-05</td>\n",
       "      <td>0.000054</td>\n",
       "      <td>7.397215e-07</td>\n",
       "      <td>0.000058</td>\n",
       "      <td>0.000207</td>\n",
       "      <td>0.000072</td>\n",
       "      <td>0.000115</td>\n",
       "      <td>0.000016</td>\n",
       "      <td>0.000204</td>\n",
       "    </tr>\n",
       "    <tr>\n",
       "      <th>TCGA-AO-A0J4-01A-11R-A034-07</th>\n",
       "      <td>4.486067e-07</td>\n",
       "      <td>0.000011</td>\n",
       "      <td>0.000010</td>\n",
       "      <td>0.000072</td>\n",
       "      <td>0.000017</td>\n",
       "      <td>0.000043</td>\n",
       "      <td>0.000025</td>\n",
       "      <td>0.000009</td>\n",
       "      <td>0.000186</td>\n",
       "      <td>0.000248</td>\n",
       "      <td>6.051754e-07</td>\n",
       "      <td>0.000088</td>\n",
       "      <td>0.000059</td>\n",
       "      <td>0.000078</td>\n",
       "      <td>0.000040</td>\n",
       "      <td>0.000680</td>\n",
       "      <td>0.000569</td>\n",
       "      <td>0.000235</td>\n",
       "      <td>0.000020</td>\n",
       "      <td>0.000081</td>\n",
       "      <td>0.000045</td>\n",
       "      <td>0.000018</td>\n",
       "      <td>0.000044</td>\n",
       "      <td>0.000165</td>\n",
       "      <td>0.000010</td>\n",
       "      <td>0.000030</td>\n",
       "      <td>7.723038e-06</td>\n",
       "      <td>0.000032</td>\n",
       "      <td>0.000001</td>\n",
       "      <td>0.000074</td>\n",
       "      <td>0.000069</td>\n",
       "      <td>0.000066</td>\n",
       "      <td>0.000003</td>\n",
       "      <td>0.000055</td>\n",
       "      <td>0.000188</td>\n",
       "      <td>0.000001</td>\n",
       "      <td>0.000006</td>\n",
       "      <td>0.000156</td>\n",
       "      <td>0.001923</td>\n",
       "      <td>0.000006</td>\n",
       "      <td>0.000014</td>\n",
       "      <td>0.000420</td>\n",
       "      <td>0.000051</td>\n",
       "      <td>0.000031</td>\n",
       "      <td>0.000028</td>\n",
       "      <td>0.000059</td>\n",
       "      <td>0.000032</td>\n",
       "      <td>0.000025</td>\n",
       "      <td>0.000123</td>\n",
       "      <td>0.000178</td>\n",
       "      <td>0.000258</td>\n",
       "      <td>0.000004</td>\n",
       "      <td>0.000293</td>\n",
       "      <td>0.000152</td>\n",
       "      <td>0.000097</td>\n",
       "      <td>0.000004</td>\n",
       "      <td>5.993613e-07</td>\n",
       "      <td>0.000042</td>\n",
       "      <td>0.000084</td>\n",
       "      <td>0.000004</td>\n",
       "      <td>0.000005</td>\n",
       "      <td>0.000009</td>\n",
       "      <td>0.000032</td>\n",
       "      <td>0.000089</td>\n",
       "      <td>0.000032</td>\n",
       "      <td>0.000040</td>\n",
       "      <td>0.000035</td>\n",
       "      <td>0.000014</td>\n",
       "      <td>0.000511</td>\n",
       "      <td>0.000026</td>\n",
       "      <td>0.000350</td>\n",
       "      <td>0.000058</td>\n",
       "      <td>0.000015</td>\n",
       "      <td>0.000021</td>\n",
       "      <td>0.000571</td>\n",
       "      <td>0.000009</td>\n",
       "      <td>6.139863e-07</td>\n",
       "      <td>0.000565</td>\n",
       "      <td>0.000316</td>\n",
       "      <td>0.000180</td>\n",
       "      <td>0.000018</td>\n",
       "      <td>0.000022</td>\n",
       "      <td>0.000016</td>\n",
       "      <td>0.000002</td>\n",
       "      <td>0.000006</td>\n",
       "      <td>0.000023</td>\n",
       "      <td>0.000016</td>\n",
       "      <td>0.000026</td>\n",
       "      <td>0.000013</td>\n",
       "      <td>0.000023</td>\n",
       "      <td>0.000072</td>\n",
       "      <td>3.753817e-05</td>\n",
       "      <td>0.000056</td>\n",
       "      <td>5.541999e-06</td>\n",
       "      <td>0.000018</td>\n",
       "      <td>0.000211</td>\n",
       "      <td>0.000025</td>\n",
       "      <td>0.000293</td>\n",
       "      <td>0.000023</td>\n",
       "      <td>0.000048</td>\n",
       "    </tr>\n",
       "  </tbody>\n",
       "</table>\n",
       "</div>"
      ],
      "text/plain": [
       "index                           FOXA1|3169  FAM171A1|221061  B3GNT5|84002  RGMA|56963  CDCA7|83879  C11orf75|56935  TTLL4|9654  BCL11A|53335  UQCRHL|440567  PADI2|11240  SFRS13B|135295  EN1|2019  FOXC1|2296  UCK2|7371  CXorf61|203413  UQCRH|7388  GABRP|2568  HMGA1|3159  ZNF462|58499  TCF7L1|83439  PSAT1|29968  PRKX|5613  IFRD1|3475  CDC20|991  KIAA1804|84451  GLIPR2|152007    GATA3|2625  MEMO1|51072  MLPH|79083  NCK2|8440  MICALL1|85377  CEBPB|1051  PDSS1|23590  TSPAN33|340348  ANP32E|81611  \\\n",
       "TCGA-AN-A04D-01A-21R-A034-07  1.730230e-06         0.000041      0.000039    0.000102     0.000026        0.000085    0.000055      0.000040       0.000364     0.000111    4.274570e-06  0.000079    0.000060   0.000128        0.000024    0.001476    0.000409    0.000247      0.000011      0.000058     0.000009   0.000015    0.000039   0.000141        0.000011       0.000166  4.660106e-07     0.000034    0.000004   0.000056       0.000028    0.000145     0.000029        0.000046      0.000161   \n",
       "TCGA-AR-A0TP-01A-11R-A084-07  3.049591e-06         0.000024      0.000023    0.000045     0.000022        0.000074    0.000013      0.000026       0.000138     0.000192    1.937751e-06  0.000068    0.000049   0.000051        0.000049    0.000514    0.000248    0.000146      0.000049      0.000041     0.000050   0.000027    0.000039   0.000055        0.000021       0.000049  2.739239e-07     0.000025    0.000008   0.000146       0.000045    0.000065     0.000009        0.000115      0.000093   \n",
       "TCGA-BH-A0BG-01A-11R-A115-07  5.892785e-07         0.000055      0.000010    0.000039     0.000014        0.000062    0.000048      0.000021       0.000178     0.000217    5.934668e-07  0.000080    0.000062   0.000057        0.000037    0.000535    0.001199    0.000206      0.000016      0.000050     0.000028   0.000024    0.000021   0.000046        0.000012       0.000068  1.236405e-05     0.000033    0.000005   0.000093       0.000029    0.000120     0.000008        0.000049      0.000064   \n",
       "TCGA-D8-A147-01A-11R-A115-07  2.569597e-08         0.000031      0.000029    0.000032     0.000042        0.000032    0.000067      0.000010       0.000152     0.000212    5.981410e-06  0.000095    0.000078   0.000087        0.000040    0.000492    0.001235    0.000291      0.000029      0.000026     0.000077   0.000034    0.000055   0.000080        0.000030       0.000064  4.577537e-06     0.000044    0.000017   0.000129       0.000044    0.000070     0.000012        0.000051      0.000150   \n",
       "TCGA-AO-A0J4-01A-11R-A034-07  4.486067e-07         0.000011      0.000010    0.000072     0.000017        0.000043    0.000025      0.000009       0.000186     0.000248    6.051754e-07  0.000088    0.000059   0.000078        0.000040    0.000680    0.000569    0.000235      0.000020      0.000081     0.000045   0.000018    0.000044   0.000165        0.000010       0.000030  7.723038e-06     0.000032    0.000001   0.000074       0.000069    0.000066     0.000003        0.000055      0.000188   \n",
       "\n",
       "index                         ZNF454|285676  FAM123B|139285  CDH3|1001  ENO1|2023  ST8SIA1|6489  ZNF695|57116  CDK2AP1|8099  CDCA8|55143  AURKB|9212  C12orf10|60314  SFT2D2|375035  FMNL2|114793  MTHFD1L|25902  SKP1|6500  SLC43A3|29015  HAPLN3|145864  MFSD2B|388931  XBP1|7494  ELF5|2001  UBE2E3|10477  HRASLS|57110   DNALI1|7802  POLR2F|5435  NASP|4678  RASAL1|8437  AKR1E2|83592  SUV39H2|79723  USP6NL|9712  PHGDH|26227  LMO4|8543  C9orf30|91283  KIF2C|11004  ZBTB7A|51341  BTF3|689  CENPA|1058  \\\n",
       "TCGA-AN-A04D-01A-21R-A034-07       0.000005        0.000007   0.000003   0.000528      0.000004      0.000018      0.001317     0.000092    0.000047        0.000045       0.000037      0.000022       0.000014   0.000207       0.000047       0.000071       0.000004   0.000280   0.000197      0.000223      0.000021  7.460657e-07     0.000066   0.000283     0.000012      0.000009       0.000013     0.000021     0.000274   0.000265       0.000031     0.000108      0.000009  0.000358    0.000034   \n",
       "TCGA-AR-A0TP-01A-11R-A084-07       0.000002        0.000003   0.000024   0.002900      0.000008      0.000002      0.000567     0.000025    0.000019        0.000019       0.000057      0.000028       0.000013   0.000121       0.000151       0.000196       0.000003   0.000353   0.000046      0.000087      0.000006  4.270029e-07     0.000044   0.000071     0.000017      0.000005       0.000006     0.000017     0.000878   0.000111       0.000034     0.000020      0.000009  0.000580    0.000012   \n",
       "TCGA-BH-A0BG-01A-11R-A115-07       0.000001        0.000006   0.000150   0.001937      0.000005      0.000002      0.000462     0.000016    0.000036        0.000032       0.000037      0.000038       0.000012   0.000147       0.000152       0.000235       0.000004   0.000220   0.000370      0.000137      0.000004  1.138655e-06     0.000030   0.000081     0.000005      0.000004       0.000009     0.000025     0.000079   0.000105       0.000029     0.000020      0.000013  0.000642    0.000011   \n",
       "TCGA-D8-A147-01A-11R-A115-07       0.000005        0.000009   0.000073   0.001486      0.000001      0.000023      0.000532     0.000038    0.000033        0.000036       0.000075      0.000067       0.000020   0.000224       0.000334       0.000035       0.000004   0.000288   0.000135      0.000167      0.000020  8.611817e-06     0.000020   0.000140     0.000007      0.000005       0.000016     0.000025     0.000240   0.000163       0.000078     0.000038      0.000009  0.000796    0.000030   \n",
       "TCGA-AO-A0J4-01A-11R-A034-07       0.000001        0.000006   0.000156   0.001923      0.000006      0.000014      0.000420     0.000051    0.000031        0.000028       0.000059      0.000032       0.000025   0.000123       0.000178       0.000258       0.000004   0.000293   0.000152      0.000097      0.000004  5.993613e-07     0.000042   0.000084     0.000004      0.000005       0.000009     0.000032     0.000089   0.000032       0.000040     0.000035      0.000014  0.000511    0.000026   \n",
       "\n",
       "index                         STMN1|3925  RHOB|388  TMSB15B|286527  TBX19|9095  ILF2|3608  TTC8|123016   CDKN2A|1029  LDHB|3945  TMBIM6|7009  SOX10|6663  NDC80|10403  TTK|7272  FLJ36031|168455  CLCN4|1183  ANKRA2|57763  IVD|3712  KIAA0141|9812  CHCHD5|84269  CCDC82|79780  PELI1|57162  NT5DC2|64943  PPP1R14C|81706  KIAA0020|9933     ZIC1|7545  MELK|9833  DAZAP2|9802  MEX3A|92312  CDC42EP1|11135  CENPN|55839  ATL2|64225  \n",
       "TCGA-AN-A04D-01A-21R-A034-07    0.001064  0.000114        0.000049    0.000009   0.000891     0.000006  6.239159e-05   0.000620     0.000641    0.000415     0.000053  0.000031         0.000006    0.000001      0.000006  0.000003       0.000025      0.000031      0.000018     0.000023      0.000054    2.992853e-07       0.000063  2.426209e-05   0.000039     0.000211     0.000144        0.000060     0.000019    0.000214  \n",
       "TCGA-AR-A0TP-01A-11R-A084-07    0.000550  0.000089        0.000020    0.000020   0.000398     0.000009  1.139181e-04   0.000596     0.000343    0.000295     0.000022  0.000016         0.000013    0.000002      0.000004  0.000019       0.000010      0.000023      0.000043     0.000042      0.000090    5.990495e-06       0.000046  1.169343e-07   0.000024     0.000118     0.000031        0.000170     0.000017    0.000066  \n",
       "TCGA-BH-A0BG-01A-11R-A115-07    0.000332  0.000060        0.000022    0.000025   0.000321     0.000015  1.658079e-06   0.000687     0.000300    0.000180     0.000034  0.000011         0.000022    0.000014      0.000005  0.000011       0.000018      0.000032      0.000035     0.000030      0.000064    1.106708e-05       0.000047  7.150037e-06   0.000021     0.000240     0.000010        0.000129     0.000012    0.000045  \n",
       "TCGA-D8-A147-01A-11R-A115-07    0.000814  0.000042        0.000059    0.000007   0.000724     0.000012  9.177106e-05   0.001178     0.000457    0.000144     0.000021  0.000030         0.000015    0.000014      0.000012  0.000021       0.000026      0.000021      0.000033     0.000023      0.000065    2.715361e-05       0.000054  7.397215e-07   0.000058     0.000207     0.000072        0.000115     0.000016    0.000204  \n",
       "TCGA-AO-A0J4-01A-11R-A034-07    0.000350  0.000058        0.000015    0.000021   0.000571     0.000009  6.139863e-07   0.000565     0.000316    0.000180     0.000018  0.000022         0.000016    0.000002      0.000006  0.000023       0.000016      0.000026      0.000013     0.000023      0.000072    3.753817e-05       0.000056  5.541999e-06   0.000018     0.000211     0.000025        0.000293     0.000023    0.000048  "
      ]
     },
     "execution_count": 33,
     "metadata": {},
     "output_type": "execute_result"
    }
   ],
   "source": [
    "breast_cancer.head()"
   ]
  },
  {
   "cell_type": "markdown",
   "metadata": {},
   "source": [
    "##2. Linear Support Vector Machine"
   ]
  },
  {
   "cell_type": "code",
   "execution_count": 34,
   "metadata": {
    "collapsed": false
   },
   "outputs": [],
   "source": [
    "from sklearn.cross_validation import train_test_split\n",
    "itrain, itest = train_test_split(xrange(breast_cancer.shape[0]), train_size=0.8) #split the samples into 80% training samples and 20% testing samples"
   ]
  },
  {
   "cell_type": "code",
   "execution_count": 35,
   "metadata": {
    "collapsed": false
   },
   "outputs": [],
   "source": [
    "mask=np.ones(breast_cancer.shape[0], dtype='int')\n",
    "mask[itrain]=1\n",
    "mask[itest]=0\n",
    "mask = (mask==1)"
   ]
  },
  {
   "cell_type": "code",
   "execution_count": 36,
   "metadata": {
    "collapsed": true
   },
   "outputs": [],
   "source": [
    "Xmatrix_train=breast_cancer[mask]\n",
    "Xmatrix_test=breast_cancer[~mask]\n",
    "Yresp_train=brca_subtype_trans_sorted['subtype'][mask]\n",
    "Yresp_test=brca_subtype_trans_sorted['subtype'][~mask]"
   ]
  },
  {
   "cell_type": "code",
   "execution_count": 37,
   "metadata": {
    "collapsed": false
   },
   "outputs": [
    {
     "data": {
      "text/plain": [
       "LinearSVC(C=1.0, class_weight=None, dual=True, fit_intercept=True,\n",
       "     intercept_scaling=1, loss='hinge', max_iter=1000, multi_class='ovr',\n",
       "     penalty='l2', random_state=None, tol=0.0001, verbose=0)"
      ]
     },
     "execution_count": 37,
     "metadata": {},
     "output_type": "execute_result"
    }
   ],
   "source": [
    "# Use the expression of each gene as a feature for the model.\n",
    "from sklearn.svm import LinearSVC\n",
    "clfsvm=LinearSVC(loss=\"hinge\")\n",
    "clfsvm.fit(Xmatrix_train, Yresp_train)"
   ]
  },
  {
   "cell_type": "code",
   "execution_count": 38,
   "metadata": {
    "collapsed": false
   },
   "outputs": [
    {
     "name": "stdout",
     "output_type": "stream",
     "text": [
      "Accuracy on training data: 0.6957\n",
      "Accuracy on test data:     0.7115\n"
     ]
    }
   ],
   "source": [
    "training_accuracy_svm_linear = clfsvm.score(Xmatrix_train, Yresp_train)\n",
    "test_accuracy_svm_linear = clfsvm.score(Xmatrix_test, Yresp_test)\n",
    "print \"Accuracy on training data: %0.4f\" % (training_accuracy_svm_linear)\n",
    "print \"Accuracy on test data:     %0.4f\" % (test_accuracy_svm_linear)"
   ]
  },
  {
   "cell_type": "markdown",
   "metadata": {},
   "source": [
    "Discussion: We found low accuracy because this classifier grouped all the samples in the same group, the reasons behind this might be: 1. there are still strong correlations between expression patterns of genes though the genes we picked out are the most differential expressed ones; 2. The number of samples for each group is not sufficient and the group \"Lumina\" is in the majority of all samples, which exerts a significant effect on the SVM classifier."
   ]
  },
  {
   "cell_type": "code",
   "execution_count": 85,
   "metadata": {
    "collapsed": false
   },
   "outputs": [
    {
     "data": {
      "text/plain": [
       "array([2, 2, 2, 2, 2, 2, 2, 2, 2, 2, 2, 2, 2, 2, 2, 2, 2, 2, 2, 2, 2, 2, 2,\n",
       "       2, 2, 2, 2, 2, 2, 2, 2, 2, 2, 2, 2, 2, 2, 2, 2, 2, 2, 2, 2, 2, 2, 2,\n",
       "       2, 2, 2, 2, 2, 2, 2, 2, 2, 2, 2, 2, 2, 2, 2, 2, 2, 2, 2, 2, 2, 2, 2,\n",
       "       2, 2, 2, 2, 2, 2, 2, 2, 2, 2, 2, 2, 2, 2, 2, 2, 2, 2, 2, 2, 2, 2, 2,\n",
       "       2, 2, 2, 2, 2, 2, 2, 2, 2, 2, 2, 2], dtype=int64)"
      ]
     },
     "execution_count": 85,
     "metadata": {},
     "output_type": "execute_result"
    }
   ],
   "source": [
    "clfsvm.predict(Xmatrix_test)"
   ]
  },
  {
   "cell_type": "markdown",
   "metadata": {},
   "source": [
    "##3. K Nearest Joining Method"
   ]
  },
  {
   "cell_type": "code",
   "execution_count": 39,
   "metadata": {
    "collapsed": false
   },
   "outputs": [],
   "source": [
    "from sklearn.neighbors import KNeighborsClassifier"
   ]
  },
  {
   "cell_type": "code",
   "execution_count": 40,
   "metadata": {
    "collapsed": true
   },
   "outputs": [],
   "source": [
    "def classify(X,y, nbrs, train_size=0.8):\n",
    "    Xtrain, Xtest, ytrain, ytest = train_test_split(X, y, train_size=train_size)\n",
    "    clf= KNeighborsClassifier(nbrs)\n",
    "    clf=clf.fit(Xtrain, ytrain)\n",
    "    training_accuracy = clf.score(Xtrain, ytrain)\n",
    "    test_accuracy = clf.score(Xtest, ytest)\n",
    "    Xall=np.concatenate((Xtrain, Xtest))  \n",
    "    return nbrs, training_accuracy, test_accuracy"
   ]
  },
  {
   "cell_type": "code",
   "execution_count": 41,
   "metadata": {
    "collapsed": false
   },
   "outputs": [
    {
     "name": "stdout",
     "output_type": "stream",
     "text": [
      "(3, 0.92270531400966183, 0.91346153846153844)\n"
     ]
    }
   ],
   "source": [
    "print classify(breast_cancer,brca_subtype_trans_sorted['subtype'], 3)"
   ]
  },
  {
   "cell_type": "code",
   "execution_count": 43,
   "metadata": {
    "collapsed": false
   },
   "outputs": [],
   "source": [
    "fits={}\n",
    "for k in np.arange(1,100,1):\n",
    "    fits[k]=[]\n",
    "    for i in range(100):\n",
    "        fits[k].append(classify(breast_cancer, brca_subtype_trans_sorted['subtype'],k))"
   ]
  },
  {
   "cell_type": "code",
   "execution_count": 44,
   "metadata": {
    "collapsed": false
   },
   "outputs": [],
   "source": [
    "nbrs=np.arange(1,100,1)\n",
    "fmeanstr = np.array([1.-np.mean([t[1] for t in fits[e]]) for e in nbrs])\n",
    "fmeanste = np.array([1.-np.mean([t[2] for t in fits[e]]) for e in nbrs])\n",
    "fstdsstr = np.array([np.std([t[1] for t in fits[e]]) for e in nbrs])\n",
    "fstdsste = np.array([np.std([t[2] for t in fits[e]]) for e in nbrs])"
   ]
  },
  {
   "cell_type": "code",
   "execution_count": 49,
   "metadata": {
    "collapsed": false
   },
   "outputs": [
    {
     "data": {
      "image/png": "[encoded data removed]",
      "text/plain": [
       "<matplotlib.figure.Figure at 0x5edb7da0>"
      ]
     },
     "metadata": {},
     "output_type": "display_data"
    }
   ],
   "source": [
    "plt.figure(figsize=(12,8))\n",
    "plt.plot(nbrs, fmeanstr, color='blue', label=\"training\");\n",
    "plt.fill_between(nbrs, fmeanstr - fstdsstr, fmeanstr+fstdsstr, color='blue', alpha=0.3)\n",
    "plt.plot(nbrs, fmeanste, color='yellow', label=\"testing\");\n",
    "plt.fill_between(nbrs, fmeanste - fstdsste, fmeanste+fstdsste, color='yellow', alpha=0.5)\n",
    "plt.xlabel('k value')\n",
    "plt.ylabel('error')\n",
    "plt.legend();"
   ]
  },
  {
   "cell_type": "markdown",
   "metadata": {},
   "source": [
    "Here we plotted the test error and training error against the number of neighbors k. We can see that small k is more wiggly in the classification of neighborhoods and large k oversmooths the classification. As expected, the training error arises with complexity (k serves as a complexity parameter), but the test error decreases drastically at first and then slightly increases. There is a range of k from 15 to 5, in which the fit is as good as it gets. Thus we pick k=10 in our final model."
   ]
  },
  {
   "cell_type": "code",
   "execution_count": 58,
   "metadata": {
    "collapsed": false
   },
   "outputs": [
    {
     "data": {
      "text/plain": [
       "KNeighborsClassifier(algorithm='auto', leaf_size=30, metric='minkowski',\n",
       "           metric_params=None, n_neighbors=10, p=2, weights='uniform')"
      ]
     },
     "execution_count": 58,
     "metadata": {},
     "output_type": "execute_result"
    }
   ],
   "source": [
    "clfknn = KNeighborsClassifier(10)\n",
    "clfknn.fit(Xmatrix_train, Yresp_train)"
   ]
  },
  {
   "cell_type": "code",
   "execution_count": 59,
   "metadata": {
    "collapsed": false
   },
   "outputs": [
    {
     "name": "stdout",
     "output_type": "stream",
     "text": [
      "Accuracy on training data: 0.9130\n",
      "Accuracy on test data:     0.8942\n"
     ]
    }
   ],
   "source": [
    "training_accuracy_knn = clfknn.score(Xmatrix_train, Yresp_train)\n",
    "test_accuracy_knn = clfknn.score(Xmatrix_test, Yresp_test)\n",
    "print \"Accuracy on training data: %0.4f\" % (training_accuracy_knn)\n",
    "print \"Accuracy on test data:     %0.4f\" % (test_accuracy_knn)"
   ]
  },
  {
   "cell_type": "markdown",
   "metadata": {},
   "source": [
    "## Conclusion and Discussion"
   ]
  },
  {
   "cell_type": "markdown",
   "metadata": {},
   "source": [
    "We can see the accuracy of KNN classifier is around 90% in the test set. If we would like to go further, we can predict the remaining samples that has not been labeled (no subtype information) and compare the subtype prediction with the previous unsupervised clustering results in the first part. If there is a high correlation between them, we have reasons to believe that the unsupervised clustering results are reliable. "
   ]
  }
 ],
 "metadata": {
  "kernelspec": {
   "display_name": "Python 2",
   "language": "python",
   "name": "python2"
  },
  "language_info": {
   "codemirror_mode": {
    "name": "ipython",
    "version": 2
   },
   "file_extension": ".py",
   "mimetype": "text/x-python",
   "name": "python",
   "nbconvert_exporter": "python",
   "pygments_lexer": "ipython2",
   "version": "2.7.10"
  }
 },
 "nbformat": 4,
 "nbformat_minor": 0
}
